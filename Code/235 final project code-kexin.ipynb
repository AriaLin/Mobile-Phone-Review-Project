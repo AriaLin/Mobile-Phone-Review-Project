{
 "cells": [
  {
   "cell_type": "markdown",
   "metadata": {},
   "source": [
    "# 235 Final Project\n",
    "### Team A1: Eileen Zhu, Kexin Zhou, Zijie Fang, Hongshan Lin"
   ]
  },
  {
   "cell_type": "markdown",
   "metadata": {},
   "source": [
    "## Code Development"
   ]
  },
  {
   "cell_type": "markdown",
   "metadata": {},
   "source": [
    "### 1. data import and preprocessing\n",
    "(2 PTS)preprocessing include such tasks as imputing, binning, filtering, outlier treatment, feature engineering, text processing"
   ]
  },
  {
   "cell_type": "code",
   "execution_count": 1,
   "metadata": {},
   "outputs": [],
   "source": [
    "##set up spark session\n",
    "import os\n",
    "from pyspark import SparkContext\n",
    "from pyspark.sql import SQLContext\n",
    "from pyspark.sql import Row\n",
    "from pyspark.ml import Pipeline\n",
    "from pyspark.sql.types import *       # for datatype conversion\n",
    "from pyspark.sql.functions import *   # for col() function\n",
    "import pandas as pd\n",
    "\n",
    "sc = SparkContext.getOrCreate()\n",
    "\n",
    "import pyspark.sql.types as typ\n",
    "import pyspark.sql.functions as F\n",
    "from pyspark.sql import SparkSession\n",
    "spark = SparkSession \\\n",
    "    .builder \\\n",
    "    .master(\"local[*]\") \\\n",
    "    .appName(\"xor\") \\\n",
    "    .config(\"spark.executor.memory\", '2g') \\\n",
    "    .config('spark.executor.cores', '1') \\\n",
    "    .config('spark.cores.max', '1') \\\n",
    "    .config(\"spark.driver.memory\",'1g') \\\n",
    "    .getOrCreate()\n",
    "\n",
    "sc = spark.sparkContext\n",
    "sqlCtx = SQLContext(sc)"
   ]
  },
  {
   "cell_type": "markdown",
   "metadata": {},
   "source": [
    "#### Read in Data"
   ]
  },
  {
   "cell_type": "code",
   "execution_count": 2,
   "metadata": {},
   "outputs": [],
   "source": [
    "## load in data as pyspark dataframe\n",
    "path_to_data=os.path.join('/home/jovyan/235FinalProject/sampleddata.csv')\n",
    "df=spark.read.csv(path_to_data,header=True)"
   ]
  },
  {
   "cell_type": "code",
   "execution_count": 3,
   "metadata": {},
   "outputs": [
    {
     "name": "stdout",
     "output_type": "stream",
     "text": [
      "+---------+------+--------------------+\n",
      "|BrandName|Rating|             Reviews|\n",
      "+---------+------+--------------------+\n",
      "|  Alcatel|     1|\"Phone looks good...|\n",
      "|    CNPGD|     5|           excelente|\n",
      "|       LG|     5|The only way you ...|\n",
      "+---------+------+--------------------+\n",
      "only showing top 3 rows\n",
      "\n"
     ]
    }
   ],
   "source": [
    "df.show(3)"
   ]
  },
  {
   "cell_type": "code",
   "execution_count": 4,
   "metadata": {},
   "outputs": [
    {
     "name": "stdout",
     "output_type": "stream",
     "text": [
      "root\n",
      " |-- BrandName: string (nullable = true)\n",
      " |-- Rating: string (nullable = true)\n",
      " |-- Reviews: string (nullable = true)\n",
      "\n"
     ]
    }
   ],
   "source": [
    "#schema of df\n",
    "df.printSchema()"
   ]
  },
  {
   "cell_type": "code",
   "execution_count": 5,
   "metadata": {},
   "outputs": [
    {
     "name": "stdout",
     "output_type": "stream",
     "text": [
      "+-------+--------------------+------------------+--------------------+\n",
      "|summary|           BrandName|            Rating|             Reviews|\n",
      "+-------+--------------------+------------------+--------------------+\n",
      "|  count|               84406|            100000|               99983|\n",
      "|   mean|                null|           3.82029|             12345.0|\n",
      "| stddev|                null|1.5487408762872643|                 NaN|\n",
      "|    min|\"BlackBerry Storm...|                 1|!!!!!Update!!!!! ...|\n",
      "|    max|           worryfree|                 5|                  🤗|\n",
      "+-------+--------------------+------------------+--------------------+\n",
      "\n"
     ]
    }
   ],
   "source": [
    "# check missing values\n",
    "df.describe().show()\n",
    "#No missing values in Price and Rating, missing values in BrandName and Reviews"
   ]
  },
  {
   "cell_type": "code",
   "execution_count": 6,
   "metadata": {},
   "outputs": [
    {
     "data": {
      "text/plain": [
       "84391"
      ]
     },
     "execution_count": 6,
     "metadata": {},
     "output_type": "execute_result"
    }
   ],
   "source": [
    "#drop missing values\n",
    "data=df.na.drop()\n",
    "data.count()"
   ]
  },
  {
   "cell_type": "code",
   "execution_count": 7,
   "metadata": {},
   "outputs": [
    {
     "name": "stdout",
     "output_type": "stream",
     "text": [
      "+-------+--------------------+------------------+--------------------+\n",
      "|summary|           BrandName|            Rating|             Reviews|\n",
      "+-------+--------------------+------------------+--------------------+\n",
      "|  count|               84391|             84391|               84391|\n",
      "|   mean|                null|3.8177649275396663|                null|\n",
      "| stddev|                null|1.5459023383844865|                null|\n",
      "|    min|\"BlackBerry Storm...|                 1|!!!!!Update!!!!! ...|\n",
      "|    max|           worryfree|                 5|                  🤗|\n",
      "+-------+--------------------+------------------+--------------------+\n",
      "\n"
     ]
    }
   ],
   "source": [
    "data.describe().show() #no missing values, total 84391 rows"
   ]
  },
  {
   "cell_type": "markdown",
   "metadata": {},
   "source": [
    "#### Tokenizer"
   ]
  },
  {
   "cell_type": "code",
   "execution_count": 8,
   "metadata": {},
   "outputs": [],
   "source": [
    "dataset=data.select(['Rating','Reviews'])"
   ]
  },
  {
   "cell_type": "code",
   "execution_count": 9,
   "metadata": {},
   "outputs": [],
   "source": [
    "from pyspark.ml.feature import HashingTF, IDF, Tokenizer\n",
    "from pyspark.sql.types import IntegerType\n",
    "from pyspark.ml.feature import StopWordsRemover\n",
    "from pyspark.ml.feature import OneHotEncoder, StringIndexer, VectorAssembler"
   ]
  },
  {
   "cell_type": "markdown",
   "metadata": {},
   "source": [
    "Tokenize reivews:"
   ]
  },
  {
   "cell_type": "code",
   "execution_count": 10,
   "metadata": {},
   "outputs": [],
   "source": [
    "from pyspark.ml.feature import RegexTokenizer, StopWordsRemover, CountVectorizer\n",
    "# regular expression tokenizer\n",
    "tokenizer = RegexTokenizer(inputCol=\"Reviews\", outputCol=\"words\", pattern=\"\\\\W\")\n",
    "countTokens = udf(lambda words: len(words), IntegerType())"
   ]
  },
  {
   "cell_type": "code",
   "execution_count": 11,
   "metadata": {},
   "outputs": [],
   "source": [
    "wordsData = tokenizer.transform(dataset)"
   ]
  },
  {
   "cell_type": "code",
   "execution_count": 12,
   "metadata": {},
   "outputs": [
    {
     "name": "stdout",
     "output_type": "stream",
     "text": [
      "+------+--------------------+--------------------+\n",
      "|Rating|             Reviews|               words|\n",
      "+------+--------------------+--------------------+\n",
      "|     1|\"Phone looks good...|[phone, looks, go...|\n",
      "|     5|           excelente|         [excelente]|\n",
      "|     5|The only way you ...|[the, only, way, ...|\n",
      "+------+--------------------+--------------------+\n",
      "only showing top 3 rows\n",
      "\n"
     ]
    }
   ],
   "source": [
    "wordsData.show(3)"
   ]
  },
  {
   "cell_type": "markdown",
   "metadata": {},
   "source": [
    "Remove stop words such as a, the, etc."
   ]
  },
  {
   "cell_type": "code",
   "execution_count": 13,
   "metadata": {},
   "outputs": [],
   "source": [
    "stopwordsRemover = StopWordsRemover(inputCol=\"words\", outputCol=\"filtered\")"
   ]
  },
  {
   "cell_type": "code",
   "execution_count": 14,
   "metadata": {},
   "outputs": [],
   "source": [
    "filteredData=stopwordsRemover.transform(wordsData)"
   ]
  },
  {
   "cell_type": "code",
   "execution_count": 15,
   "metadata": {},
   "outputs": [
    {
     "name": "stdout",
     "output_type": "stream",
     "text": [
      "+------+--------------------+--------------------+--------------------+\n",
      "|Rating|             Reviews|               words|            filtered|\n",
      "+------+--------------------+--------------------+--------------------+\n",
      "|     1|\"Phone looks good...|[phone, looks, go...|[phone, looks, go...|\n",
      "|     5|           excelente|         [excelente]|         [excelente]|\n",
      "|     5|The only way you ...|[the, only, way, ...|[way, get, pure, ...|\n",
      "+------+--------------------+--------------------+--------------------+\n",
      "only showing top 3 rows\n",
      "\n"
     ]
    }
   ],
   "source": [
    "filteredData.show(3)"
   ]
  },
  {
   "cell_type": "markdown",
   "metadata": {},
   "source": [
    "Translate words into features:"
   ]
  },
  {
   "cell_type": "code",
   "execution_count": 16,
   "metadata": {},
   "outputs": [],
   "source": [
    "hashingTF = HashingTF(inputCol=\"filtered\", outputCol=\"rawFeatures\", numFeatures=20)"
   ]
  },
  {
   "cell_type": "code",
   "execution_count": 17,
   "metadata": {},
   "outputs": [],
   "source": [
    "featurizedData = hashingTF.transform(filteredData)"
   ]
  },
  {
   "cell_type": "code",
   "execution_count": 18,
   "metadata": {},
   "outputs": [],
   "source": [
    "samplefeatures=featurizedData.select(['Rating','rawFeatures'])"
   ]
  },
  {
   "cell_type": "code",
   "execution_count": 19,
   "metadata": {},
   "outputs": [],
   "source": [
    "idf = IDF(inputCol=\"rawFeatures\", outputCol=\"features\")"
   ]
  },
  {
   "cell_type": "code",
   "execution_count": 20,
   "metadata": {},
   "outputs": [],
   "source": [
    "idfModel = idf.fit(samplefeatures)"
   ]
  },
  {
   "cell_type": "code",
   "execution_count": 21,
   "metadata": {},
   "outputs": [],
   "source": [
    "rescaledData = idfModel.transform(samplefeatures)"
   ]
  },
  {
   "cell_type": "code",
   "execution_count": 22,
   "metadata": {},
   "outputs": [
    {
     "name": "stdout",
     "output_type": "stream",
     "text": [
      "+------+--------------------+--------------------+\n",
      "|Rating|         rawFeatures|            features|\n",
      "+------+--------------------+--------------------+\n",
      "|     1|(20,[0,1,2,3,4,5,...|(20,[0,1,2,3,4,5,...|\n",
      "|     5|      (20,[7],[1.0])|(20,[7],[0.936634...|\n",
      "|     5|(20,[4,5,11,19],[...|(20,[4,5,11,19],[...|\n",
      "+------+--------------------+--------------------+\n",
      "only showing top 3 rows\n",
      "\n"
     ]
    }
   ],
   "source": [
    "rescaledData.show(3)"
   ]
  },
  {
   "cell_type": "markdown",
   "metadata": {},
   "source": [
    "Translate Ratings into labels:"
   ]
  },
  {
   "cell_type": "code",
   "execution_count": 23,
   "metadata": {},
   "outputs": [],
   "source": [
    "labelIndexer = StringIndexer(inputCol=\"Rating\", outputCol=\"label\")"
   ]
  },
  {
   "cell_type": "code",
   "execution_count": 24,
   "metadata": {},
   "outputs": [],
   "source": [
    "model=labelIndexer.fit(rescaledData)"
   ]
  },
  {
   "cell_type": "code",
   "execution_count": 25,
   "metadata": {},
   "outputs": [],
   "source": [
    "tf=model.transform(rescaledData)"
   ]
  },
  {
   "cell_type": "code",
   "execution_count": 26,
   "metadata": {},
   "outputs": [
    {
     "name": "stdout",
     "output_type": "stream",
     "text": [
      "+------+--------------------+--------------------+-----+\n",
      "|Rating|         rawFeatures|            features|label|\n",
      "+------+--------------------+--------------------+-----+\n",
      "|     1|(20,[0,1,2,3,4,5,...|(20,[0,1,2,3,4,5,...|  1.0|\n",
      "|     5|      (20,[7],[1.0])|(20,[7],[0.936634...|  0.0|\n",
      "|     5|(20,[4,5,11,19],[...|(20,[4,5,11,19],[...|  0.0|\n",
      "+------+--------------------+--------------------+-----+\n",
      "only showing top 3 rows\n",
      "\n"
     ]
    }
   ],
   "source": [
    "tf.show(3)"
   ]
  },
  {
   "cell_type": "markdown",
   "metadata": {},
   "source": [
    "Prepare dataset(as spark dataframe) for model building:"
   ]
  },
  {
   "cell_type": "code",
   "execution_count": 27,
   "metadata": {},
   "outputs": [],
   "source": [
    "input_data=tf.select('label','features')"
   ]
  },
  {
   "cell_type": "code",
   "execution_count": 28,
   "metadata": {},
   "outputs": [
    {
     "name": "stdout",
     "output_type": "stream",
     "text": [
      "+-----+--------------------+\n",
      "|label|            features|\n",
      "+-----+--------------------+\n",
      "|  1.0|(20,[0,1,2,3,4,5,...|\n",
      "|  0.0|(20,[7],[0.936634...|\n",
      "|  0.0|(20,[4,5,11,19],[...|\n",
      "+-----+--------------------+\n",
      "only showing top 3 rows\n",
      "\n"
     ]
    }
   ],
   "source": [
    "input_data.show(3)"
   ]
  },
  {
   "cell_type": "markdown",
   "metadata": {},
   "source": [
    "### 2. data splitting/sampling\n",
    "(1 PT)sampling may not be needed, but splitting is a must"
   ]
  },
  {
   "cell_type": "code",
   "execution_count": 29,
   "metadata": {},
   "outputs": [],
   "source": [
    "(trainingData, testData) = input_data.randomSplit([0.7, 0.3],seed=88)"
   ]
  },
  {
   "cell_type": "markdown",
   "metadata": {},
   "source": [
    "### 3. exploratory data analysis, with at least 2 graphs \n",
    "(2PTS)"
   ]
  },
  {
   "cell_type": "markdown",
   "metadata": {},
   "source": [
    "#### Frequency Distribution for Reviews"
   ]
  },
  {
   "cell_type": "code",
   "execution_count": 30,
   "metadata": {},
   "outputs": [],
   "source": [
    "#tranform df to pandas\n",
    "filteredDataPanda=filteredData.select(\"filtered\").toPandas()\n",
    "#create a text file \n",
    "filteredDataPanda.to_csv('filtered_reviews.txt', index=False, sep=' ', header=None)"
   ]
  },
  {
   "cell_type": "code",
   "execution_count": 31,
   "metadata": {},
   "outputs": [],
   "source": [
    "#import as rdd\n",
    "review_rdd= sc.textFile('filtered_reviews.txt')\n",
    "#split words\n",
    "review_split = review_rdd.flatMap(lambda r: r.split(\"\\'\"))"
   ]
  },
  {
   "cell_type": "code",
   "execution_count": 32,
   "metadata": {},
   "outputs": [],
   "source": [
    "#select only words\n",
    "review_only = review_split.filter(lambda r: r != '') \\\n",
    ".filter(lambda r: r != ', ') \\\n",
    ".filter(lambda r: r != ']\"') \\\n",
    ".filter(lambda r: r != '\"[') \\\n",
    ".filter(lambda r: r != '[') \\\n",
    ".filter(lambda r: r != ']')"
   ]
  },
  {
   "cell_type": "code",
   "execution_count": 33,
   "metadata": {},
   "outputs": [
    {
     "data": {
      "text/plain": [
       "[(87378, 'phone'),\n",
       " (20943, 'great'),\n",
       " (19954, 'good'),\n",
       " (12732, 'one'),\n",
       " (11559, 'like'),\n",
       " (11286, 'screen'),\n",
       " (11055, 'use'),\n",
       " (10739, 'battery'),\n",
       " (9926, 'works'),\n",
       " (9370, 'love')]"
      ]
     },
     "execution_count": 33,
     "metadata": {},
     "output_type": "execute_result"
    }
   ],
   "source": [
    "review_words_count = review_only.map(lambda x: (x, 1)) \\\n",
    ".reduceByKey(lambda x,y:x+y) \\\n",
    ".map(lambda x: (x[1], x[0])) \\\n",
    ".sortByKey(False)\n",
    "\n",
    "review_words_count.take(10)"
   ]
  },
  {
   "cell_type": "markdown",
   "metadata": {},
   "source": [
    "#### Word Cloud for Reviews"
   ]
  },
  {
   "cell_type": "code",
   "execution_count": 34,
   "metadata": {},
   "outputs": [
    {
     "name": "stdout",
     "output_type": "stream",
     "text": [
      "[nltk_data] Downloading package stopwords to /home/jovyan/nltk_data...\n",
      "[nltk_data]   Package stopwords is already up-to-date!\n",
      "[nltk_data] Downloading package punkt to /home/jovyan/nltk_data...\n",
      "[nltk_data]   Package punkt is already up-to-date!\n"
     ]
    },
    {
     "data": {
      "text/plain": [
       "True"
      ]
     },
     "execution_count": 34,
     "metadata": {},
     "output_type": "execute_result"
    }
   ],
   "source": [
    "import nltk\n",
    "from nltk.corpus import stopwords\n",
    "nltk.download('stopwords')\n",
    "nltk.download('punkt')"
   ]
  },
  {
   "cell_type": "code",
   "execution_count": 35,
   "metadata": {},
   "outputs": [],
   "source": [
    "f = open('filtered_reviews.txt','r',encoding='utf-8').read()\n",
    "from nltk.tokenize import word_tokenize \n",
    "  \n",
    "word_tokens = word_tokenize(f) \n",
    "stop_words=list(nltk.corpus.stopwords.words('english')) \n",
    "# Add \"phone\" to the stop words dictionary\n",
    "stop_words.append(\"phone\")\n",
    "\n",
    "filtered_sentence = [w for w in word_tokens if not w in stop_words] \n",
    "\n",
    "wl_space_split = \" \".join(filtered_sentence)"
   ]
  },
  {
   "cell_type": "code",
   "execution_count": 36,
   "metadata": {},
   "outputs": [
    {
     "data": {
      "text/plain": [
       "<Figure size 640x480 with 1 Axes>"
      ]
     },
     "metadata": {},
     "output_type": "display_data"
    },
    {
     "data": {
      "text/plain": [
       "<wordcloud.wordcloud.WordCloud at 0x7f8f5d254f60>"
      ]
     },
     "execution_count": 36,
     "metadata": {},
     "output_type": "execute_result"
    }
   ],
   "source": [
    "from pyspark.sql import SparkSession\n",
    "from wordcloud import WordCloud\n",
    "import matplotlib.pyplot as plt\n",
    "\n",
    "#create wordcloud\n",
    "review_wc = WordCloud(\n",
    "        background_color=\"white\",\n",
    "        width=1500,             \n",
    "        height=960,              \n",
    "        margin=10               \n",
    "        ).generate(wl_space_split)\n",
    "plt.figure()\n",
    "plt.imshow(review_wc)\n",
    "plt.axis(\"off\")\n",
    "plt.show()\n",
    "review_wc.to_file('review_wc.png')"
   ]
  },
  {
   "cell_type": "markdown",
   "metadata": {},
   "source": [
    "#### Sentiment Words Analysis"
   ]
  },
  {
   "cell_type": "code",
   "execution_count": 37,
   "metadata": {},
   "outputs": [],
   "source": [
    "import pyspark.sql.functions as F"
   ]
  },
  {
   "cell_type": "code",
   "execution_count": 38,
   "metadata": {},
   "outputs": [],
   "source": [
    "gooddict = [\"good\",\"great\",\"nice\",\"wonderful\",\"best\",\"perfect\",\"fantastic\",\"greatest\",\n",
    "            \"love\",\"like\",\"awesome\",\"thank\",\"amazing\",\"recommend\"]\n",
    "baddict = [\"bad\",\"worse\",\"worst\",\"terrible\",\"never\",\"fake\",\"not\",\"problem\",\"slow\",\"returned\",\n",
    "           \"disappointed\",\"complaint\",\"issue\"]"
   ]
  },
  {
   "cell_type": "code",
   "execution_count": 39,
   "metadata": {},
   "outputs": [],
   "source": [
    "def Sentiment(word_dict,data_rdd):\n",
    "    count = []\n",
    "    for w in word_dict:\n",
    "        wordcount = data_rdd.filter(lambda r: w in r).count()\n",
    "        count.append(wordcount)\n",
    "    sentiment = pd.DataFrame(index=word_dict, columns=['wordCount'], data=count)\n",
    "    sentiment.sort_values(by='wordCount', ascending=False, inplace=True)\n",
    "    return sentiment.head(10)"
   ]
  },
  {
   "cell_type": "code",
   "execution_count": 40,
   "metadata": {},
   "outputs": [
    {
     "data": {
      "text/html": [
       "<div>\n",
       "<style scoped>\n",
       "    .dataframe tbody tr th:only-of-type {\n",
       "        vertical-align: middle;\n",
       "    }\n",
       "\n",
       "    .dataframe tbody tr th {\n",
       "        vertical-align: top;\n",
       "    }\n",
       "\n",
       "    .dataframe thead th {\n",
       "        text-align: right;\n",
       "    }\n",
       "</style>\n",
       "<table border=\"1\" class=\"dataframe\">\n",
       "  <thead>\n",
       "    <tr style=\"text-align: right;\">\n",
       "      <th></th>\n",
       "      <th>wordCount</th>\n",
       "    </tr>\n",
       "  </thead>\n",
       "  <tbody>\n",
       "    <tr>\n",
       "      <th>great</th>\n",
       "      <td>21310</td>\n",
       "    </tr>\n",
       "    <tr>\n",
       "      <th>good</th>\n",
       "      <td>20170</td>\n",
       "    </tr>\n",
       "    <tr>\n",
       "      <th>like</th>\n",
       "      <td>13156</td>\n",
       "    </tr>\n",
       "    <tr>\n",
       "      <th>love</th>\n",
       "      <td>11966</td>\n",
       "    </tr>\n",
       "    <tr>\n",
       "      <th>perfect</th>\n",
       "      <td>6033</td>\n",
       "    </tr>\n",
       "    <tr>\n",
       "      <th>nice</th>\n",
       "      <td>5947</td>\n",
       "    </tr>\n",
       "    <tr>\n",
       "      <th>recommend</th>\n",
       "      <td>4332</td>\n",
       "    </tr>\n",
       "    <tr>\n",
       "      <th>best</th>\n",
       "      <td>3831</td>\n",
       "    </tr>\n",
       "    <tr>\n",
       "      <th>thank</th>\n",
       "      <td>3538</td>\n",
       "    </tr>\n",
       "    <tr>\n",
       "      <th>amazing</th>\n",
       "      <td>2437</td>\n",
       "    </tr>\n",
       "  </tbody>\n",
       "</table>\n",
       "</div>"
      ],
      "text/plain": [
       "           wordCount\n",
       "great          21310\n",
       "good           20170\n",
       "like           13156\n",
       "love           11966\n",
       "perfect         6033\n",
       "nice            5947\n",
       "recommend       4332\n",
       "best            3831\n",
       "thank           3538\n",
       "amazing         2437"
      ]
     },
     "execution_count": 40,
     "metadata": {},
     "output_type": "execute_result"
    }
   ],
   "source": [
    "# top 10 most frequently used positive words\n",
    "Sentiment(gooddict, review_only)"
   ]
  },
  {
   "cell_type": "code",
   "execution_count": 41,
   "metadata": {},
   "outputs": [
    {
     "data": {
      "text/html": [
       "<div>\n",
       "<style scoped>\n",
       "    .dataframe tbody tr th:only-of-type {\n",
       "        vertical-align: middle;\n",
       "    }\n",
       "\n",
       "    .dataframe tbody tr th {\n",
       "        vertical-align: top;\n",
       "    }\n",
       "\n",
       "    .dataframe thead th {\n",
       "        text-align: right;\n",
       "    }\n",
       "</style>\n",
       "<table border=\"1\" class=\"dataframe\">\n",
       "  <thead>\n",
       "    <tr style=\"text-align: right;\">\n",
       "      <th></th>\n",
       "      <th>wordCount</th>\n",
       "    </tr>\n",
       "  </thead>\n",
       "  <tbody>\n",
       "    <tr>\n",
       "      <th>not</th>\n",
       "      <td>7712</td>\n",
       "    </tr>\n",
       "    <tr>\n",
       "      <th>problem</th>\n",
       "      <td>7228</td>\n",
       "    </tr>\n",
       "    <tr>\n",
       "      <th>issue</th>\n",
       "      <td>4387</td>\n",
       "    </tr>\n",
       "    <tr>\n",
       "      <th>never</th>\n",
       "      <td>3089</td>\n",
       "    </tr>\n",
       "    <tr>\n",
       "      <th>bad</th>\n",
       "      <td>2952</td>\n",
       "    </tr>\n",
       "    <tr>\n",
       "      <th>slow</th>\n",
       "      <td>2063</td>\n",
       "    </tr>\n",
       "    <tr>\n",
       "      <th>disappointed</th>\n",
       "      <td>1601</td>\n",
       "    </tr>\n",
       "    <tr>\n",
       "      <th>complaint</th>\n",
       "      <td>1053</td>\n",
       "    </tr>\n",
       "    <tr>\n",
       "      <th>returned</th>\n",
       "      <td>1032</td>\n",
       "    </tr>\n",
       "    <tr>\n",
       "      <th>terrible</th>\n",
       "      <td>681</td>\n",
       "    </tr>\n",
       "  </tbody>\n",
       "</table>\n",
       "</div>"
      ],
      "text/plain": [
       "              wordCount\n",
       "not                7712\n",
       "problem            7228\n",
       "issue              4387\n",
       "never              3089\n",
       "bad                2952\n",
       "slow               2063\n",
       "disappointed       1601\n",
       "complaint          1053\n",
       "returned           1032\n",
       "terrible            681"
      ]
     },
     "execution_count": 41,
     "metadata": {},
     "output_type": "execute_result"
    }
   ],
   "source": [
    "# top 10 most frequently used negative words\n",
    "Sentiment(baddict, review_only)"
   ]
  },
  {
   "cell_type": "code",
   "execution_count": null,
   "metadata": {},
   "outputs": [],
   "source": []
  },
  {
   "cell_type": "markdown",
   "metadata": {},
   "source": [
    "#### Brand Rating Analysis"
   ]
  },
  {
   "cell_type": "code",
   "execution_count": 42,
   "metadata": {},
   "outputs": [
    {
     "name": "stdout",
     "output_type": "stream",
     "text": [
      "rows=315\n"
     ]
    }
   ],
   "source": [
    "#distinct brand count\n",
    "#total 315 brands\n",
    "print('rows={}'.format(data.select('BrandName').distinct().count()))"
   ]
  },
  {
   "cell_type": "code",
   "execution_count": 43,
   "metadata": {},
   "outputs": [
    {
     "name": "stdout",
     "output_type": "stream",
     "text": [
      "+----------+-----+\n",
      "| BrandName|count|\n",
      "+----------+-----+\n",
      "|   Samsung|16002|\n",
      "|       BLU|15250|\n",
      "|     Apple|14324|\n",
      "|        LG| 5424|\n",
      "|BlackBerry| 4028|\n",
      "+----------+-----+\n",
      "only showing top 5 rows\n",
      "\n"
     ]
    }
   ],
   "source": [
    "#distribution of Brand reviews\n",
    "brandcount=data.groupBy(\"BrandName\").count() \\\n",
    "        .orderBy(col(\"count\").desc())\n",
    "brandcount.show(5)"
   ]
  },
  {
   "cell_type": "code",
   "execution_count": 44,
   "metadata": {},
   "outputs": [
    {
     "name": "stdout",
     "output_type": "stream",
     "text": [
      "+--------------------+-----------+\n",
      "|           BrandName|avg(Rating)|\n",
      "+--------------------+-----------+\n",
      "|samsung galaxy in...|        5.0|\n",
      "|           Quick-get|        5.0|\n",
      "|Seawolf Technologies|        5.0|\n",
      "|           microsoft|        5.0|\n",
      "|             Getnord|        5.0|\n",
      "+--------------------+-----------+\n",
      "only showing top 5 rows\n",
      "\n"
     ]
    }
   ],
   "source": [
    "#comput average rating for each brand \n",
    "avgRating=data.groupBy(\"BrandName\").agg(F.mean('Rating'))\n",
    "avgRating.sort(\"avg(Rating)\",ascending=False,inplace=True).show(5)"
   ]
  },
  {
   "cell_type": "code",
   "execution_count": 45,
   "metadata": {},
   "outputs": [
    {
     "name": "stdout",
     "output_type": "stream",
     "text": [
      "+----------+---------+\n",
      "| BrandName|ratecount|\n",
      "+----------+---------+\n",
      "|   Samsung|    16002|\n",
      "|       BLU|    15250|\n",
      "|     Apple|    14324|\n",
      "|        LG|     5424|\n",
      "|BlackBerry|     4028|\n",
      "+----------+---------+\n",
      "only showing top 5 rows\n",
      "\n"
     ]
    }
   ],
   "source": [
    "#rate count for each brand\n",
    "br=data.select(['BrandName','Rating'])\n",
    "ratecount=br.groupBy(\"BrandName\").count()\\\n",
    "            .orderBy(col(\"count\").desc())\\\n",
    "            .selectExpr(\"BrandName as BrandName\",\"count as ratecount\")\n",
    "ratecount.show(5)"
   ]
  },
  {
   "cell_type": "markdown",
   "metadata": {},
   "source": [
    "#### 5-Star Rate for Each Brand"
   ]
  },
  {
   "cell_type": "code",
   "execution_count": 46,
   "metadata": {},
   "outputs": [
    {
     "name": "stdout",
     "output_type": "stream",
     "text": [
      "+----------+--------------+\n",
      "| BrandName|5starratecount|\n",
      "+----------+--------------+\n",
      "|   Samsung|          9385|\n",
      "|     Apple|          8783|\n",
      "|       BLU|          7597|\n",
      "|        LG|          2948|\n",
      "|BlackBerry|          2141|\n",
      "+----------+--------------+\n",
      "only showing top 5 rows\n",
      "\n"
     ]
    }
   ],
   "source": [
    "# 5-star rate count for each brand\n",
    "rate5starcount=br.filter(df[\"Rating\"]==5)\\\n",
    "                .groupBy(\"BrandName\").count()\\\n",
    "                .orderBy(col(\"count\").desc())\\\n",
    "                .selectExpr(\"BrandName as BrandName\",\"count as 5starratecount\")\n",
    "rate5starcount.show(5)"
   ]
  },
  {
   "cell_type": "code",
   "execution_count": 47,
   "metadata": {},
   "outputs": [],
   "source": [
    "#join all dataframes\n",
    "data2=brandcount.join(avgRating,[\"BrandName\"]).join(ratecount,[\"BrandName\"]).join(rate5starcount,[\"BrandName\"])"
   ]
  },
  {
   "cell_type": "code",
   "execution_count": 48,
   "metadata": {},
   "outputs": [
    {
     "name": "stdout",
     "output_type": "stream",
     "text": [
      "+----------+-----+------------------+---------+--------------+------------------+\n",
      "| BrandName|count|       avg(Rating)|ratecount|5starratecount|      5StarPercent|\n",
      "+----------+-----+------------------+---------+--------------+------------------+\n",
      "|   Samsung|16002| 3.973065866766654|    16002|          9385|0.5864891888513936|\n",
      "|       BLU|15250| 3.787213114754098|    15250|          7597|0.4981639344262295|\n",
      "|     Apple|14324|3.9247416922647305|    14324|          8783|0.6131667132086009|\n",
      "|        LG| 5424| 3.840523598820059|     5424|          2948|0.5435103244837758|\n",
      "|BlackBerry| 4028| 3.743296921549156|     4028|          2141|0.5315292949354519|\n",
      "+----------+-----+------------------+---------+--------------+------------------+\n",
      "only showing top 5 rows\n",
      "\n"
     ]
    }
   ],
   "source": [
    "#compute 5-star rate count for each brand name\n",
    "data3=data2.withColumn('5StarPercent',F.col('5starratecount')/F.col('ratecount')).sort(\"count\",ascending=False,inplace=True)\n",
    "data3.show(5)"
   ]
  },
  {
   "cell_type": "markdown",
   "metadata": {},
   "source": [
    "#### Word Cloud for Brands Based on 5-Star Rate"
   ]
  },
  {
   "cell_type": "code",
   "execution_count": 49,
   "metadata": {},
   "outputs": [],
   "source": [
    "import matplotlib.pyplot as plt\n",
    "from wordcloud import WordCloud"
   ]
  },
  {
   "cell_type": "code",
   "execution_count": 50,
   "metadata": {},
   "outputs": [],
   "source": [
    "# Select only \"BrandName\" and its frequencies\n",
    "five_star_rate=data3.select(\"BrandName\",\"5StarPercent\").sort(\"5StarPercent\",ascending=False,inplace=True)\n",
    "# Transform df to list\n",
    "frequencies = five_star_rate.toPandas().set_index('BrandName').T.to_dict('records')"
   ]
  },
  {
   "cell_type": "code",
   "execution_count": 51,
   "metadata": {},
   "outputs": [
    {
     "data": {
      "image/png": "[encoded data removed]",
      "text/plain": [
       "<Figure size 432x288 with 1 Axes>"
      ]
     },
     "metadata": {
      "needs_background": "light"
     },
     "output_type": "display_data"
    },
    {
     "data": {
      "text/plain": [
       "<wordcloud.wordcloud.WordCloud at 0x7f8f5f861748>"
      ]
     },
     "execution_count": 51,
     "metadata": {},
     "output_type": "execute_result"
    }
   ],
   "source": [
    "five_star_rate_wc = WordCloud(\n",
    "        background_color=\"white\", \n",
    "        width=1500,              \n",
    "        height=960,              \n",
    "        margin=10               \n",
    "        ).generate_from_frequencies(dict(*frequencies))\n",
    "plt.figure()\n",
    "plt.imshow(five_star_rate_wc, interpolation=\"bilinear\")\n",
    "plt.axis(\"off\")\n",
    "plt.show()\n",
    "# Save Image\n",
    "five_star_rate_wc.to_file('five_star_rate_wc.png') "
   ]
  },
  {
   "cell_type": "markdown",
   "metadata": {},
   "source": [
    "#### Brand Distribution & Average Rating"
   ]
  },
  {
   "cell_type": "code",
   "execution_count": 52,
   "metadata": {},
   "outputs": [],
   "source": [
    "import numpy as np\n",
    "from matplotlib import pyplot as plt\n",
    "%matplotlib inline"
   ]
  },
  {
   "cell_type": "code",
   "execution_count": 53,
   "metadata": {},
   "outputs": [],
   "source": [
    "top20=data3.collect()[0:20]\n",
    "Brands = [i[0] for i in top20]\n",
    "counts = [i[1] for i in top20]\n",
    "ratingavg=[i[2] for i in top20]\n",
    "starpercentage=[i[5] for i in top20]\n",
    "ind = np.array(range(len(top20)))\n",
    "width = 0.35"
   ]
  },
  {
   "cell_type": "code",
   "execution_count": 54,
   "metadata": {},
   "outputs": [
    {
     "data": {
      "image/png": "[encoded data removed]",
      "text/plain": [
       "<Figure size 432x288 with 2 Axes>"
      ]
     },
     "metadata": {
      "needs_background": "light"
     },
     "output_type": "display_data"
    }
   ],
   "source": [
    "fig, ax1 = plt.subplots()\n",
    "#plot first graph\n",
    "plt.plot(ind, ratingavg, color='g')\n",
    "plt.xticks(ind + width/2., Brands,fontsize=5)\n",
    "plt.xlabel('BrandNames')\n",
    "plt.ylabel('Average Rating')\n",
    "plt.title('Brand Distribution, Average Rating ')\n",
    "\n",
    "ax2 = ax1.twinx()\n",
    "#plot second graph\n",
    "plt.bar(ind, counts, width=width, color='r')\n",
    "plt.ylabel('Counts')\n",
    "plt.xlabel('Brand Names')\n",
    "plt.xticks(ind + width/2., Brands,fontsize=5)\n",
    "\n",
    "plt.show()"
   ]
  },
  {
   "cell_type": "markdown",
   "metadata": {},
   "source": [
    "#### Word Cloud for Samsung"
   ]
  },
  {
   "cell_type": "code",
   "execution_count": 55,
   "metadata": {},
   "outputs": [],
   "source": [
    "reviewSamsung=data.filter(data[\"BrandName\"]==\"Samsung\")"
   ]
  },
  {
   "cell_type": "code",
   "execution_count": 56,
   "metadata": {},
   "outputs": [],
   "source": [
    "from pyspark.ml.feature import RegexTokenizer, StopWordsRemover, CountVectorizer\n",
    "from pyspark.ml.classification import LogisticRegression\n",
    "# regular expression tokenizer\n",
    "regexTokenizer = RegexTokenizer(inputCol=\"Reviews\", outputCol=\"words\", pattern=\"\\\\W\")\n",
    "# stop words\n",
    "stop_words=list(nltk.corpus.stopwords.words('english')) "
   ]
  },
  {
   "cell_type": "code",
   "execution_count": 57,
   "metadata": {},
   "outputs": [],
   "source": [
    "# Add \"phone\" to the stop words dictionary\n",
    "stop_words.append(\"phone\")"
   ]
  },
  {
   "cell_type": "code",
   "execution_count": 58,
   "metadata": {},
   "outputs": [],
   "source": [
    "stopwordsRemover = StopWordsRemover(inputCol=\"words\", outputCol=\"filtered\",stopWords=stop_words)"
   ]
  },
  {
   "cell_type": "code",
   "execution_count": 59,
   "metadata": {},
   "outputs": [
    {
     "name": "stdout",
     "output_type": "stream",
     "text": [
      "+---------+------+--------------------+--------------------+--------------------+\n",
      "|BrandName|Rating|             Reviews|               words|            filtered|\n",
      "+---------+------+--------------------+--------------------+--------------------+\n",
      "|  Samsung|     5|I bought this as ...|[i, bought, this,...|[bought, travel, ...|\n",
      "|  Samsung|     4|This is a great p...|[this, is, a, gre...|[great, easy, set...|\n",
      "|  Samsung|     5|Great phone with ...|[great, phone, wi...|[great, fantastic...|\n",
      "|  Samsung|     5|       Great Product|    [great, product]|    [great, product]|\n",
      "|  Samsung|     5|i bought this as ...|[i, bought, this,...|[bought, gift, so...|\n",
      "+---------+------+--------------------+--------------------+--------------------+\n",
      "only showing top 5 rows\n",
      "\n"
     ]
    }
   ],
   "source": [
    "#tokenize Samsung reivews\n",
    "pipelinerate=Pipeline(stages=[regexTokenizer,stopwordsRemover])\n",
    "pipelineratefit=pipelinerate.fit(reviewSamsung)\n",
    "datasetReview=pipelineratefit.transform(reviewSamsung)\n",
    "datasetReview.show(5)"
   ]
  },
  {
   "cell_type": "code",
   "execution_count": 60,
   "metadata": {},
   "outputs": [],
   "source": [
    "datasetPanda=datasetReview.select(\"filtered\").toPandas()\n",
    "#create a text file \n",
    "datasetPanda.to_csv('Samsung.txt', index=False, sep=' ', header=None)"
   ]
  },
  {
   "cell_type": "code",
   "execution_count": 61,
   "metadata": {},
   "outputs": [],
   "source": [
    "f = open('Samsung.txt','r',encoding='utf-8').read()\n",
    "from nltk.tokenize import word_tokenize \n",
    "  \n",
    "word_tokens = word_tokenize(f) \n",
    "  \n",
    "filtered_sentence = [w for w in word_tokens if not w in stop_words] \n",
    "\n",
    "wl_space_split = \" \".join(filtered_sentence)"
   ]
  },
  {
   "cell_type": "code",
   "execution_count": 62,
   "metadata": {},
   "outputs": [
    {
     "data": {
      "image/png": "[encoded data removed]",
      "text/plain": [
       "<Figure size 432x288 with 1 Axes>"
      ]
     },
     "metadata": {
      "needs_background": "light"
     },
     "output_type": "display_data"
    },
    {
     "data": {
      "text/plain": [
       "<wordcloud.wordcloud.WordCloud at 0x7f8f66e9cc88>"
      ]
     },
     "execution_count": 62,
     "metadata": {},
     "output_type": "execute_result"
    }
   ],
   "source": [
    "wordcloud = WordCloud(\n",
    "        background_color=\"white\", \n",
    "        width=1500,              \n",
    "        height=960,              \n",
    "        margin=10              \n",
    "        ).generate(wl_space_split)\n",
    "plt.imshow(wordcloud)\n",
    "plt.axis(\"off\")\n",
    "plt.show()\n",
    "wordcloud.to_file('Samsung_wc.png')"
   ]
  },
  {
   "cell_type": "code",
   "execution_count": null,
   "metadata": {},
   "outputs": [],
   "source": []
  },
  {
   "cell_type": "code",
   "execution_count": null,
   "metadata": {},
   "outputs": [],
   "source": []
  },
  {
   "cell_type": "markdown",
   "metadata": {},
   "source": [
    "### 4. model construction, with at least 3 models\n",
    "(3PTS) ideally the models are constructed using pipelines\n",
    "\n",
    "A complete project will consider at least 2 models:\n",
    "\n",
    "1.  A benchmark model, which is relatively simple.  This could be a regression model with a small number of features (possibly a single feature).  This provides a basis for comparison and a sanity check.\n",
    "2. A more sophisticated model, which could be one of the models covered in class.  The best model found in your experiments is called the champion model.\n",
    "\n",
    "The model construction process should follow the best practices covered in class, including:\n",
    "\n",
    "a.\tData preprocessing.  The required steps will depend on the model, and could include:\n",
    "\n",
    "\ti. dummy variable construction\n",
    "\tii. feature scaling\n",
    " \tiii. handling missing values and outliers\n",
    "\tiv. handling semi-structured / unstructured data\n",
    "\tv. dimensionality reduction (e.g., PCA)\n",
    "\n",
    "b.\tData splitting (train/validation/test sets, for example).  The test set should be left out for evaluation purposes.  It should NOT be used in training.\n",
    "c.\tK-fold cross validation of hyperparameters\n"
   ]
  },
  {
   "cell_type": "markdown",
   "metadata": {},
   "source": [
    "#### Lasso Regression"
   ]
  },
  {
   "cell_type": "code",
   "execution_count": null,
   "metadata": {},
   "outputs": [],
   "source": []
  },
  {
   "cell_type": "code",
   "execution_count": null,
   "metadata": {},
   "outputs": [],
   "source": []
  },
  {
   "cell_type": "code",
   "execution_count": null,
   "metadata": {},
   "outputs": [],
   "source": []
  },
  {
   "cell_type": "markdown",
   "metadata": {},
   "source": [
    "#### Logistic Regression"
   ]
  },
  {
   "cell_type": "code",
   "execution_count": null,
   "metadata": {},
   "outputs": [],
   "source": []
  },
  {
   "cell_type": "code",
   "execution_count": null,
   "metadata": {},
   "outputs": [],
   "source": []
  },
  {
   "cell_type": "markdown",
   "metadata": {},
   "source": [
    "#### KNN\n"
   ]
  },
  {
   "cell_type": "code",
   "execution_count": null,
   "metadata": {},
   "outputs": [],
   "source": []
  },
  {
   "cell_type": "markdown",
   "metadata": {},
   "source": [
    "#### Random Forest"
   ]
  },
  {
   "cell_type": "code",
   "execution_count": 63,
   "metadata": {},
   "outputs": [],
   "source": [
    "from pyspark.ml.classification import RandomForestClassifier\n",
    "from pyspark.ml.feature import IndexToString, StringIndexer, VectorIndexer\n",
    "from pyspark.ml.evaluation import MulticlassClassificationEvaluator"
   ]
  },
  {
   "cell_type": "code",
   "execution_count": 64,
   "metadata": {},
   "outputs": [],
   "source": [
    "labelIndexer = StringIndexer(inputCol=\"label\", outputCol=\"indexedLabel\").fit(input_data)"
   ]
  },
  {
   "cell_type": "code",
   "execution_count": 65,
   "metadata": {},
   "outputs": [],
   "source": [
    "# Automatically identify categorical features, and index them.\n",
    "# Set maxCategories so features with > 5 distinct values are treated as continuous.\n",
    "featureIndexer =VectorIndexer(inputCol=\"features\", outputCol=\"indexedFeatures\", maxCategories=5).fit(input_data)"
   ]
  },
  {
   "cell_type": "code",
   "execution_count": 66,
   "metadata": {},
   "outputs": [],
   "source": [
    "# Train a RandomForest model.\n",
    "rf = RandomForestClassifier(labelCol=\"indexedLabel\", featuresCol=\"indexedFeatures\", numTrees=10)"
   ]
  },
  {
   "cell_type": "code",
   "execution_count": 67,
   "metadata": {},
   "outputs": [],
   "source": [
    "# Convert indexed labels back to original labels.\n",
    "labelConverter = IndexToString(inputCol=\"prediction\", outputCol=\"predictedLabel\",\n",
    "                               labels=labelIndexer.labels)"
   ]
  },
  {
   "cell_type": "code",
   "execution_count": 68,
   "metadata": {},
   "outputs": [],
   "source": [
    "# Chain indexers and forest in a Pipeline\n",
    "rfpipeline = Pipeline(stages=[labelIndexer, featureIndexer, rf, labelConverter])"
   ]
  },
  {
   "cell_type": "code",
   "execution_count": 69,
   "metadata": {},
   "outputs": [],
   "source": [
    "# Train model.  This also runs the indexers.\n",
    "rftrainedmodel = rfpipeline.fit(trainingData)"
   ]
  },
  {
   "cell_type": "code",
   "execution_count": 70,
   "metadata": {},
   "outputs": [],
   "source": [
    "# Make predictions.\n",
    "rfpredictions = rftrainedmodel.transform(testData)"
   ]
  },
  {
   "cell_type": "code",
   "execution_count": 71,
   "metadata": {},
   "outputs": [],
   "source": [
    "# Select (prediction, true label) and compute test error\n",
    "rfevaluator = MulticlassClassificationEvaluator(\n",
    "    labelCol=\"indexedLabel\", predictionCol=\"prediction\", metricName=\"accuracy\")"
   ]
  },
  {
   "cell_type": "code",
   "execution_count": 72,
   "metadata": {},
   "outputs": [
    {
     "name": "stdout",
     "output_type": "stream",
     "text": [
      "Test Error = 0.458378\n"
     ]
    }
   ],
   "source": [
    "rfaccuracy = rfevaluator.evaluate(rfpredictions)\n",
    "print(\"Test Error = %g\" % (1.0 - rfaccuracy))"
   ]
  },
  {
   "cell_type": "code",
   "execution_count": 73,
   "metadata": {},
   "outputs": [],
   "source": [
    "from pyspark.mllib.evaluation import BinaryClassificationMetrics as metric\n",
    "rfresults = rfpredictions.select(['probability', 'label'])"
   ]
  },
  {
   "cell_type": "code",
   "execution_count": 74,
   "metadata": {},
   "outputs": [
    {
     "name": "stdout",
     "output_type": "stream",
     "text": [
      "The ROC score is (@numTrees=10):  0.6952904637275329\n",
      "The Precision score is (@numTrees=10):  0.7120444666759944\n"
     ]
    }
   ],
   "source": [
    "## prepare score-label set\n",
    "rfresults_collect = rfresults.collect()\n",
    "rfresults_list = [(float(i[0][0]), 1.0-float(i[1])) for i in rfresults_collect]\n",
    "rfscoreAndLabels = sc.parallelize(rfresults_list)\n",
    "\n",
    "rfmetrics = metric(rfscoreAndLabels)\n",
    "print(\"The ROC score is (@numTrees=10): \", rfmetrics.areaUnderROC)\n",
    "print(\"The Precision score is (@numTrees=10): \", rfmetrics.areaUnderPR)"
   ]
  },
  {
   "cell_type": "code",
   "execution_count": null,
   "metadata": {},
   "outputs": [],
   "source": []
  },
  {
   "cell_type": "code",
   "execution_count": null,
   "metadata": {},
   "outputs": [],
   "source": []
  },
  {
   "cell_type": "code",
   "execution_count": null,
   "metadata": {},
   "outputs": [],
   "source": []
  },
  {
   "cell_type": "markdown",
   "metadata": {},
   "source": [
    "#### Decision Tree"
   ]
  },
  {
   "cell_type": "code",
   "execution_count": 75,
   "metadata": {},
   "outputs": [],
   "source": [
    "from pyspark.ml import Pipeline\n",
    "from pyspark.ml.classification import DecisionTreeClassifier\n",
    "from pyspark.ml.feature import StringIndexer, VectorIndexer\n",
    "from pyspark.ml.evaluation import MulticlassClassificationEvaluator\n",
    "\n",
    "# Train a DecisionTree model.\n",
    "dt = DecisionTreeClassifier(labelCol=\"indexedLabel\", featuresCol=\"indexedFeatures\")\n",
    "\n",
    "# Chain indexers and tree in a Pipeline\n",
    "dtpipeline = Pipeline(stages=[labelIndexer, featureIndexer, dt])\n",
    "\n",
    "# Train model.  This also runs the indexers.\n",
    "dtmodel = dtpipeline.fit(trainingData)\n",
    "\n",
    "# Make predictions.\n",
    "dtpredictions = dtmodel.transform(testData)"
   ]
  },
  {
   "cell_type": "code",
   "execution_count": 76,
   "metadata": {},
   "outputs": [
    {
     "name": "stdout",
     "output_type": "stream",
     "text": [
      "Test Error = 0.451742 \n"
     ]
    }
   ],
   "source": [
    "# Select (prediction, true label) and compute test error\n",
    "dtevaluator = MulticlassClassificationEvaluator(\n",
    "    labelCol=\"indexedLabel\", predictionCol=\"prediction\", metricName=\"accuracy\")\n",
    "dtaccuracy = dtevaluator.evaluate(dtpredictions)\n",
    "print(\"Test Error = %g \" % (1.0 - dtaccuracy))"
   ]
  },
  {
   "cell_type": "code",
   "execution_count": 77,
   "metadata": {},
   "outputs": [],
   "source": [
    "from pyspark.ml.evaluation import BinaryClassificationEvaluator"
   ]
  },
  {
   "cell_type": "code",
   "execution_count": 78,
   "metadata": {},
   "outputs": [
    {
     "data": {
      "text/plain": [
       "0.37266136513392356"
      ]
     },
     "execution_count": 78,
     "metadata": {},
     "output_type": "execute_result"
    }
   ],
   "source": [
    "evaluatortest=BinaryClassificationEvaluator()\n",
    "evaluatortest.evaluate(dtpredictions)"
   ]
  },
  {
   "cell_type": "code",
   "execution_count": 79,
   "metadata": {},
   "outputs": [
    {
     "ename": "AttributeError",
     "evalue": "'StringIndexerModel' object has no attribute 'stages'",
     "output_type": "error",
     "traceback": [
      "\u001b[0;31m---------------------------------------------------------------------------\u001b[0m",
      "\u001b[0;31mAttributeError\u001b[0m                            Traceback (most recent call last)",
      "\u001b[0;32m<ipython-input-79-8d4e94940683>\u001b[0m in \u001b[0;36m<module>\u001b[0;34m\u001b[0m\n\u001b[0;32m----> 1\u001b[0;31m \u001b[0mmodel\u001b[0m\u001b[0;34m.\u001b[0m\u001b[0mstages\u001b[0m\u001b[0;34m[\u001b[0m\u001b[0;34m-\u001b[0m\u001b[0;36m1\u001b[0m\u001b[0;34m]\u001b[0m\u001b[0;34m\u001b[0m\u001b[0;34m\u001b[0m\u001b[0m\n\u001b[0m",
      "\u001b[0;31mAttributeError\u001b[0m: 'StringIndexerModel' object has no attribute 'stages'"
     ]
    }
   ],
   "source": [
    "model.stages[-1]"
   ]
  },
  {
   "cell_type": "code",
   "execution_count": null,
   "metadata": {},
   "outputs": [],
   "source": [
    "#画不出树来QAQ怎么办！\n",
    "from pyspark.mllib.regression import LabeledPoint\n",
    "from pyspark.mllib.tree import DecisionTree\n",
    "from pyspark.mllib.util import MLUtils\n",
    "data = MLUtils.loadLibSVMFile(sc,'/home/jovyan/235FinalProject/sampleddata.csv').cache()\n",
    "# Load and parse the data file into an RDD of LabeledPoint.\n",
    "# Cache the data since we will use it again to compute training error.\n",
    "\n",
    "# Train a DecisionTree model.\n",
    "#  Empty categoricalFeaturesInfo indicates all features are continuous.\n",
    "model = DecisionTree.trainClassifier(input_data, numClasses=2, categoricalFeaturesInfo={},\n",
    "                                     impurity='gini', maxDepth=5, maxBins=100)\n",
    "\n",
    "# Evaluate model on training instances and compute training error\n",
    "predictions = model.predict(input_data.map(lambda x: x.features))\n",
    "labelsAndPredictions = input_data.map((lambda lp: lp.label).zip(predictions))\n",
    "trainErr = labelsAndPredictions.filter(lambda seq: seq[0] != seq[1]).count() / float(input_data.count())\n",
    "print('Training Error = ' + str(trainErr))\n",
    "print('Learned classification tree model:')\n",
    "print(model)"
   ]
  },
  {
   "cell_type": "markdown",
   "metadata": {},
   "source": [
    "#### Naive Bayes （是不是要用pipeline？？？）"
   ]
  },
  {
   "cell_type": "code",
   "execution_count": null,
   "metadata": {},
   "outputs": [],
   "source": [
    "from pyspark.ml.classification import NaiveBayes\n",
    "from pyspark.ml.evaluation import MulticlassClassificationEvaluator"
   ]
  },
  {
   "cell_type": "code",
   "execution_count": null,
   "metadata": {},
   "outputs": [],
   "source": [
    "# Split the data into train and test\n",
    "splits = input_data.randomSplit([0.7, 0.3], 1234)\n",
    "train = splits[0]\n",
    "test = splits[1]\n",
    "\n",
    "# create the trainer and set its parameters\n",
    "nb = NaiveBayes(smoothing=1.0, modelType=\"multinomial\")\n",
    "\n",
    "# train the model\n",
    "model = nb.fit(train)\n",
    "\n",
    "# select example rows to display.\n",
    "predictions = model.transform(test)\n",
    "\n",
    "# compute accuracy on the test set\n",
    "evaluator = MulticlassClassificationEvaluator(labelCol=\"label\", predictionCol=\"prediction\",\n",
    "                                              metricName=\"accuracy\")"
   ]
  },
  {
   "cell_type": "code",
   "execution_count": null,
   "metadata": {},
   "outputs": [],
   "source": [
    "accuracy = evaluator.evaluate(predictions)\n",
    "print(\"Test set accuracy = \" + str(accuracy))"
   ]
  },
  {
   "cell_type": "code",
   "execution_count": null,
   "metadata": {},
   "outputs": [],
   "source": []
  },
  {
   "cell_type": "code",
   "execution_count": null,
   "metadata": {},
   "outputs": [],
   "source": []
  },
  {
   "cell_type": "code",
   "execution_count": null,
   "metadata": {},
   "outputs": [],
   "source": []
  },
  {
   "cell_type": "code",
   "execution_count": null,
   "metadata": {},
   "outputs": [],
   "source": [
    "# Create a Multinomial Naive Bayes classifier: nb_classifier\n",
    "nb_classifier = MultinomialNB()\n",
    "\n",
    "# Fit the classifier to the training data\n",
    "nb_classifier.fit(tfidf_train,y_train)\n",
    "\n",
    "# Create the predicted tags: pred\n",
    "pred = nb_classifier.predict(tfidf_test)\n",
    "\n",
    "# Calculate the accuracy score: score\n",
    "score = metrics.accuracy_score(y_test, pred)\n",
    "print('Accuracy is:',score)\n",
    "f1 = metrics.f1_score(y_test, pred)\n",
    "print('F score is:',f1)"
   ]
  },
  {
   "cell_type": "markdown",
   "metadata": {},
   "source": []
  },
  {
   "cell_type": "code",
   "execution_count": null,
   "metadata": {},
   "outputs": [],
   "source": []
  },
  {
   "cell_type": "code",
   "execution_count": null,
   "metadata": {},
   "outputs": [],
   "source": []
  },
  {
   "cell_type": "code",
   "execution_count": null,
   "metadata": {},
   "outputs": [],
   "source": []
  }
 ],
 "metadata": {
  "kernelspec": {
   "display_name": "Python 3",
   "language": "python",
   "name": "python3"
  },
  "language_info": {
   "codemirror_mode": {
    "name": "ipython",
    "version": 3
   },
   "file_extension": ".py",
   "mimetype": "text/x-python",
   "name": "python",
   "nbconvert_exporter": "python",
   "pygments_lexer": "ipython3",
   "version": "3.7.4"
  }
 },
 "nbformat": 4,
 "nbformat_minor": 2
}
