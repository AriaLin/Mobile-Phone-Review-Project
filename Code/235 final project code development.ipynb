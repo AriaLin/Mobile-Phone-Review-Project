{
 "cells": [
  {
   "cell_type": "markdown",
   "metadata": {},
   "source": [
    "# 235 Final Project\n",
    "### Team A1: Eileen Zhu, Kexin Zhou, Zijie Fang, Hongshan Lin"
   ]
  },
  {
   "cell_type": "markdown",
   "metadata": {},
   "source": [
    "## Code Development"
   ]
  },
  {
   "cell_type": "markdown",
   "metadata": {},
   "source": [
    "### 1. data import and preprocessing\n",
    "(2 PTS)preprocessing include such tasks as imputing, binning, filtering, outlier treatment, feature engineering, text processing"
   ]
  },
  {
   "cell_type": "code",
   "execution_count": 50,
   "metadata": {},
   "outputs": [],
   "source": [
    "##set up spark session\n",
    "import os\n",
    "from pyspark import SparkContext\n",
    "from pyspark.sql import SQLContext\n",
    "from pyspark.sql import Row\n",
    "from pyspark.ml import Pipeline\n",
    "from pyspark.sql.types import *       # for datatype conversion\n",
    "from pyspark.sql.functions import *   # for col() function\n",
    "import pandas as pd\n",
    "\n",
    "sc = SparkContext.getOrCreate()\n",
    "\n",
    "import pyspark.sql.types as typ\n",
    "import pyspark.sql.functions as F\n",
    "from pyspark.sql import SparkSession\n",
    "spark = SparkSession \\\n",
    "    .builder \\\n",
    "    .master(\"local[*]\") \\\n",
    "    .appName(\"xor\") \\\n",
    "    .config(\"spark.executor.memory\", '2g') \\\n",
    "    .config('spark.executor.cores', '1') \\\n",
    "    .config('spark.cores.max', '1') \\\n",
    "    .config(\"spark.driver.memory\",'1g') \\\n",
    "    .getOrCreate()\n",
    "\n",
    "sc = spark.sparkContext\n",
    "sqlCtx = SQLContext(sc)"
   ]
  },
  {
   "cell_type": "markdown",
   "metadata": {},
   "source": [
    "#### Read in Data"
   ]
  },
  {
   "cell_type": "code",
   "execution_count": 51,
   "metadata": {},
   "outputs": [],
   "source": [
    "## load in data as pyspark dataframe\n",
    "path_to_data=os.path.join('/home/jovyan/235FinalProject/sampleddata.csv')\n",
    "df=spark.read.csv(path_to_data,header=True)\n",
    "fraud = sc.textFile(path_to_data)"
   ]
  },
  {
   "cell_type": "code",
   "execution_count": 52,
   "metadata": {},
   "outputs": [
    {
     "name": "stdout",
     "output_type": "stream",
     "text": [
      "+---------+------+--------------------+\n",
      "|BrandName|Rating|             Reviews|\n",
      "+---------+------+--------------------+\n",
      "|  Alcatel|     1|\"Phone looks good...|\n",
      "|    CNPGD|     5|           excelente|\n",
      "|       LG|     5|The only way you ...|\n",
      "+---------+------+--------------------+\n",
      "only showing top 3 rows\n",
      "\n"
     ]
    }
   ],
   "source": [
    "df.show(3)"
   ]
  },
  {
   "cell_type": "code",
   "execution_count": 53,
   "metadata": {},
   "outputs": [
    {
     "name": "stdout",
     "output_type": "stream",
     "text": [
      "root\n",
      " |-- BrandName: string (nullable = true)\n",
      " |-- Rating: string (nullable = true)\n",
      " |-- Reviews: string (nullable = true)\n",
      "\n"
     ]
    }
   ],
   "source": [
    "#schema of df\n",
    "df.printSchema()"
   ]
  },
  {
   "cell_type": "code",
   "execution_count": 54,
   "metadata": {},
   "outputs": [
    {
     "name": "stdout",
     "output_type": "stream",
     "text": [
      "+-------+--------------------+------------------+--------------------+\n",
      "|summary|           BrandName|            Rating|             Reviews|\n",
      "+-------+--------------------+------------------+--------------------+\n",
      "|  count|               84406|            100000|               99983|\n",
      "|   mean|                null|           3.82029|             12345.0|\n",
      "| stddev|                null|1.5487408762872643|                 NaN|\n",
      "|    min|\"BlackBerry Storm...|                 1|!!!!!Update!!!!! ...|\n",
      "|    max|           worryfree|                 5|                  🤗|\n",
      "+-------+--------------------+------------------+--------------------+\n",
      "\n"
     ]
    }
   ],
   "source": [
    "# check missing values\n",
    "df.describe().show()\n",
    "#No missing values in Price and Rating, missing values in BrandName and Reviews"
   ]
  },
  {
   "cell_type": "code",
   "execution_count": 55,
   "metadata": {},
   "outputs": [
    {
     "data": {
      "text/plain": [
       "84391"
      ]
     },
     "execution_count": 55,
     "metadata": {},
     "output_type": "execute_result"
    }
   ],
   "source": [
    "#drop missing values\n",
    "data=df.na.drop()\n",
    "data.count()"
   ]
  },
  {
   "cell_type": "code",
   "execution_count": 56,
   "metadata": {},
   "outputs": [
    {
     "name": "stdout",
     "output_type": "stream",
     "text": [
      "+-------+--------------------+------------------+--------------------+\n",
      "|summary|           BrandName|            Rating|             Reviews|\n",
      "+-------+--------------------+------------------+--------------------+\n",
      "|  count|               84391|             84391|               84391|\n",
      "|   mean|                null|3.8177649275396663|                null|\n",
      "| stddev|                null|1.5459023383844865|                null|\n",
      "|    min|\"BlackBerry Storm...|                 1|!!!!!Update!!!!! ...|\n",
      "|    max|           worryfree|                 5|                  🤗|\n",
      "+-------+--------------------+------------------+--------------------+\n",
      "\n"
     ]
    }
   ],
   "source": [
    "data.describe().show() #no missing values, total 84391 rows"
   ]
  },
  {
   "cell_type": "markdown",
   "metadata": {},
   "source": [
    "#### Tokenizer"
   ]
  },
  {
   "cell_type": "code",
   "execution_count": 57,
   "metadata": {},
   "outputs": [],
   "source": [
    "dataset=data.select(['Rating','Reviews'])"
   ]
  },
  {
   "cell_type": "code",
   "execution_count": 58,
   "metadata": {},
   "outputs": [],
   "source": [
    "from pyspark.ml.feature import HashingTF, IDF, Tokenizer\n",
    "from pyspark.sql.types import IntegerType\n",
    "from pyspark.ml.feature import StopWordsRemover\n",
    "from pyspark.ml.feature import OneHotEncoder, StringIndexer, VectorAssembler\n",
    "from pyspark.ml.feature import RegexTokenizer, StopWordsRemover, CountVectorizer"
   ]
  },
  {
   "cell_type": "markdown",
   "metadata": {},
   "source": [
    "Tokenize reivews:"
   ]
  },
  {
   "cell_type": "code",
   "execution_count": 59,
   "metadata": {},
   "outputs": [],
   "source": [
    "# regular expression tokenizer\n",
    "tokenizer = RegexTokenizer(inputCol=\"Reviews\", outputCol=\"words\", pattern=\"\\\\W\")\n",
    "countTokens = udf(lambda words: len(words), IntegerType())"
   ]
  },
  {
   "cell_type": "code",
   "execution_count": 60,
   "metadata": {},
   "outputs": [],
   "source": [
    "wordsData = tokenizer.transform(dataset)"
   ]
  },
  {
   "cell_type": "code",
   "execution_count": 61,
   "metadata": {},
   "outputs": [
    {
     "name": "stdout",
     "output_type": "stream",
     "text": [
      "+------+--------------------+--------------------+\n",
      "|Rating|             Reviews|               words|\n",
      "+------+--------------------+--------------------+\n",
      "|     1|\"Phone looks good...|[phone, looks, go...|\n",
      "|     5|           excelente|         [excelente]|\n",
      "|     5|The only way you ...|[the, only, way, ...|\n",
      "+------+--------------------+--------------------+\n",
      "only showing top 3 rows\n",
      "\n"
     ]
    }
   ],
   "source": [
    "wordsData.show(3)"
   ]
  },
  {
   "cell_type": "markdown",
   "metadata": {},
   "source": [
    "Review Length and Rating"
   ]
  },
  {
   "cell_type": "code",
   "execution_count": 62,
   "metadata": {},
   "outputs": [],
   "source": [
    "from pyspark.sql.functions import size\n",
    "from pyspark.sql.types import IntegerType"
   ]
  },
  {
   "cell_type": "code",
   "execution_count": 63,
   "metadata": {},
   "outputs": [
    {
     "name": "stdout",
     "output_type": "stream",
     "text": [
      "+------+--------------------+--------------------+-------------+\n",
      "|Rating|             Reviews|               words|Review Length|\n",
      "+------+--------------------+--------------------+-------------+\n",
      "|     1|\"Phone looks good...|[phone, looks, go...|          136|\n",
      "|     5|           excelente|         [excelente]|            1|\n",
      "|     5|The only way you ...|[the, only, way, ...|           10|\n",
      "+------+--------------------+--------------------+-------------+\n",
      "only showing top 3 rows\n",
      "\n"
     ]
    }
   ],
   "source": [
    "countdf = wordsData.select('*',size('words').alias('Review Length'))\n",
    "countdf = countdf.withColumn(\"Rating\", countdf[\"Rating\"].cast(IntegerType()))\n",
    "countdf.show(3)"
   ]
  },
  {
   "cell_type": "code",
   "execution_count": 64,
   "metadata": {},
   "outputs": [
    {
     "data": {
      "text/plain": [
       "Text(0.5,1,'Length vs Rating Distribution')"
      ]
     },
     "execution_count": 64,
     "metadata": {},
     "output_type": "execute_result"
    },
    {
     "data": {
      "image/png": "[encoded data removed]",
      "text/plain": [
       "<Figure size 432x288 with 1 Axes>"
      ]
     },
     "metadata": {
      "needs_background": "light"
     },
     "output_type": "display_data"
    }
   ],
   "source": [
    "import matplotlib.pyplot as plt\n",
    "import numpy as np\n",
    "countdfdistribution=countdf.collect()\n",
    "Ratingcount = [i[0] for i in countdfdistribution]\n",
    "Reviewcounts = [i[3] for i in countdfdistribution]\n",
    "ind = np.array(range(len(countdfdistribution)))\n",
    "width = 0.35\n",
    "plt.scatter(Reviewcounts, Ratingcount)\n",
    "plt.ylabel('Rating')\n",
    "plt.xlabel('length')\n",
    "plt.title('Length vs Rating Distribution')"
   ]
  },
  {
   "cell_type": "markdown",
   "metadata": {},
   "source": [
    "Remove stop words such as a, the, etc."
   ]
  },
  {
   "cell_type": "code",
   "execution_count": 65,
   "metadata": {},
   "outputs": [],
   "source": [
    "stopwordsRemover = StopWordsRemover(inputCol=\"words\", outputCol=\"filtered\")"
   ]
  },
  {
   "cell_type": "code",
   "execution_count": 66,
   "metadata": {},
   "outputs": [],
   "source": [
    "filteredData=stopwordsRemover.transform(wordsData)"
   ]
  },
  {
   "cell_type": "code",
   "execution_count": 67,
   "metadata": {},
   "outputs": [
    {
     "name": "stdout",
     "output_type": "stream",
     "text": [
      "+------+--------------------+--------------------+--------------------+\n",
      "|Rating|             Reviews|               words|            filtered|\n",
      "+------+--------------------+--------------------+--------------------+\n",
      "|     1|\"Phone looks good...|[phone, looks, go...|[phone, looks, go...|\n",
      "|     5|           excelente|         [excelente]|         [excelente]|\n",
      "|     5|The only way you ...|[the, only, way, ...|[way, get, pure, ...|\n",
      "+------+--------------------+--------------------+--------------------+\n",
      "only showing top 3 rows\n",
      "\n"
     ]
    }
   ],
   "source": [
    "filteredData.show(3)"
   ]
  },
  {
   "cell_type": "markdown",
   "metadata": {},
   "source": [
    "Translate words into features:"
   ]
  },
  {
   "cell_type": "code",
   "execution_count": 68,
   "metadata": {},
   "outputs": [],
   "source": [
    "hashingTF = HashingTF(inputCol=\"filtered\", outputCol=\"rawFeatures\", numFeatures=20)"
   ]
  },
  {
   "cell_type": "code",
   "execution_count": 69,
   "metadata": {},
   "outputs": [],
   "source": [
    "featurizedData = hashingTF.transform(filteredData)"
   ]
  },
  {
   "cell_type": "code",
   "execution_count": 70,
   "metadata": {},
   "outputs": [],
   "source": [
    "samplefeatures=featurizedData.select(['Rating','rawFeatures'])"
   ]
  },
  {
   "cell_type": "code",
   "execution_count": 71,
   "metadata": {},
   "outputs": [],
   "source": [
    "idf = IDF(inputCol=\"rawFeatures\", outputCol=\"features\")"
   ]
  },
  {
   "cell_type": "code",
   "execution_count": 72,
   "metadata": {},
   "outputs": [],
   "source": [
    "idfModel = idf.fit(samplefeatures)"
   ]
  },
  {
   "cell_type": "code",
   "execution_count": 73,
   "metadata": {},
   "outputs": [],
   "source": [
    "rescaledData = idfModel.transform(samplefeatures)"
   ]
  },
  {
   "cell_type": "code",
   "execution_count": 74,
   "metadata": {
    "scrolled": true
   },
   "outputs": [
    {
     "name": "stdout",
     "output_type": "stream",
     "text": [
      "+------+--------------------+--------------------+\n",
      "|Rating|         rawFeatures|            features|\n",
      "+------+--------------------+--------------------+\n",
      "|     1|(20,[0,1,2,3,4,5,...|(20,[0,1,2,3,4,5,...|\n",
      "|     5|      (20,[7],[1.0])|(20,[7],[0.936634...|\n",
      "|     5|(20,[4,5,11,19],[...|(20,[4,5,11,19],[...|\n",
      "+------+--------------------+--------------------+\n",
      "only showing top 3 rows\n",
      "\n"
     ]
    }
   ],
   "source": [
    "rescaledData.show(3)"
   ]
  },
  {
   "cell_type": "markdown",
   "metadata": {},
   "source": [
    "Translate Ratings into labels:"
   ]
  },
  {
   "cell_type": "code",
   "execution_count": 75,
   "metadata": {},
   "outputs": [],
   "source": [
    "labelIndexer = StringIndexer(inputCol=\"Rating\", outputCol=\"label\")\n",
    "#label-->rating:\n",
    "#1-->1\n",
    "#0-->5\n",
    "#3-->3\n",
    "#2-->4\n",
    "#4-->2"
   ]
  },
  {
   "cell_type": "code",
   "execution_count": 76,
   "metadata": {},
   "outputs": [],
   "source": [
    "model=labelIndexer.fit(rescaledData)"
   ]
  },
  {
   "cell_type": "code",
   "execution_count": 77,
   "metadata": {},
   "outputs": [],
   "source": [
    "tf=model.transform(rescaledData)"
   ]
  },
  {
   "cell_type": "code",
   "execution_count": 78,
   "metadata": {
    "scrolled": true
   },
   "outputs": [
    {
     "name": "stdout",
     "output_type": "stream",
     "text": [
      "+------+--------------------+--------------------+-----+\n",
      "|Rating|         rawFeatures|            features|label|\n",
      "+------+--------------------+--------------------+-----+\n",
      "|     1|(20,[0,1,2,3,4,5,...|(20,[0,1,2,3,4,5,...|  1.0|\n",
      "|     5|      (20,[7],[1.0])|(20,[7],[0.936634...|  0.0|\n",
      "|     5|(20,[4,5,11,19],[...|(20,[4,5,11,19],[...|  0.0|\n",
      "+------+--------------------+--------------------+-----+\n",
      "only showing top 3 rows\n",
      "\n"
     ]
    }
   ],
   "source": [
    "tf.show(3)"
   ]
  },
  {
   "cell_type": "markdown",
   "metadata": {},
   "source": [
    "Prepare dataset(as spark dataframe) for model building:"
   ]
  },
  {
   "cell_type": "code",
   "execution_count": 79,
   "metadata": {},
   "outputs": [],
   "source": [
    "input_data=tf.select('label','features')"
   ]
  },
  {
   "cell_type": "code",
   "execution_count": 80,
   "metadata": {},
   "outputs": [
    {
     "name": "stdout",
     "output_type": "stream",
     "text": [
      "+-----+--------------------+\n",
      "|label|            features|\n",
      "+-----+--------------------+\n",
      "|  1.0|(20,[0,1,2,3,4,5,...|\n",
      "|  0.0|(20,[7],[0.936634...|\n",
      "|  0.0|(20,[4,5,11,19],[...|\n",
      "+-----+--------------------+\n",
      "only showing top 3 rows\n",
      "\n"
     ]
    }
   ],
   "source": [
    "input_data.show(3)"
   ]
  },
  {
   "cell_type": "markdown",
   "metadata": {},
   "source": [
    "### 2. data splitting/sampling\n",
    "(1 PT)sampling may not be needed, but splitting is a must"
   ]
  },
  {
   "cell_type": "code",
   "execution_count": 81,
   "metadata": {},
   "outputs": [],
   "source": [
    "(trainingData, testData) = input_data.randomSplit([0.7, 0.3],seed=88)"
   ]
  },
  {
   "cell_type": "markdown",
   "metadata": {},
   "source": [
    "### 3. exploratory data analysis, with at least 2 graphs \n",
    "(2PTS)"
   ]
  },
  {
   "cell_type": "markdown",
   "metadata": {},
   "source": [
    "#### Label Distribution"
   ]
  },
  {
   "cell_type": "code",
   "execution_count": 82,
   "metadata": {},
   "outputs": [
    {
     "name": "stdout",
     "output_type": "stream",
     "text": [
      "+-----+-----+\n",
      "|label|count|\n",
      "+-----+-----+\n",
      "|  0.0|45354|\n",
      "|  1.0|14709|\n",
      "|  4.0| 5069|\n",
      "|  3.0| 6468|\n",
      "|  2.0|12791|\n",
      "+-----+-----+\n",
      "\n"
     ]
    }
   ],
   "source": [
    "labeldis=input_data.groupBy(\"label\").count()\n",
    "labeldis.show()"
   ]
  },
  {
   "cell_type": "code",
   "execution_count": 83,
   "metadata": {},
   "outputs": [],
   "source": [
    "labeldistribution=labeldis.collect()\n",
    "transformedlabel = [i[0] for i in labeldistribution]\n",
    "labelcounts = [i[1] for i in labeldistribution]\n",
    "ind = np.array(range(len(labeldistribution)))\n",
    "width = 0.35"
   ]
  },
  {
   "cell_type": "code",
   "execution_count": 84,
   "metadata": {},
   "outputs": [
    {
     "data": {
      "image/png": "[encoded data removed]",
      "text/plain": [
       "<Figure size 432x288 with 1 Axes>"
      ]
     },
     "metadata": {
      "needs_background": "light"
     },
     "output_type": "display_data"
    }
   ],
   "source": [
    "plt.bar(transformedlabel, labelcounts, width=width, color='r')\n",
    "plt.ylabel('Counts')\n",
    "plt.xlabel('labels')\n",
    "plt.title('Label Distribution')\n",
    "plt.xticks(ind + width/2., transformedlabel,fontsize=10)\n",
    "plt.show()"
   ]
  },
  {
   "cell_type": "markdown",
   "metadata": {},
   "source": [
    "#### Words Frequency Distribution for Reviews"
   ]
  },
  {
   "cell_type": "code",
   "execution_count": 85,
   "metadata": {},
   "outputs": [],
   "source": [
    "#tranform df to pandas\n",
    "filteredDataPanda=filteredData.select(\"filtered\").toPandas()\n",
    "#create a text file \n",
    "filteredDataPanda.to_csv('filtered_reviews.txt', index=False, sep=' ', header=None)"
   ]
  },
  {
   "cell_type": "code",
   "execution_count": 86,
   "metadata": {},
   "outputs": [],
   "source": [
    "#import as rdd\n",
    "review_rdd= sc.textFile('filtered_reviews.txt')\n",
    "#split words\n",
    "review_split = review_rdd.flatMap(lambda r: r.split(\"\\'\"))"
   ]
  },
  {
   "cell_type": "code",
   "execution_count": 87,
   "metadata": {},
   "outputs": [],
   "source": [
    "#select only words\n",
    "review_only = review_split.filter(lambda r: r != '') \\\n",
    "    .filter(lambda r: r != ', ') \\\n",
    "    .filter(lambda r: r != ']\"') \\\n",
    "    .filter(lambda r: r != '\"[') \\\n",
    "    .filter(lambda r: r != '[') \\\n",
    "    .filter(lambda r: r != ']')"
   ]
  },
  {
   "cell_type": "code",
   "execution_count": 88,
   "metadata": {},
   "outputs": [
    {
     "data": {
      "text/plain": [
       "[(87378, 'phone'),\n",
       " (20943, 'great'),\n",
       " (19954, 'good'),\n",
       " (12732, 'one'),\n",
       " (11559, 'like'),\n",
       " (11286, 'screen'),\n",
       " (11055, 'use'),\n",
       " (10739, 'battery'),\n",
       " (9926, 'works'),\n",
       " (9370, 'love')]"
      ]
     },
     "execution_count": 88,
     "metadata": {},
     "output_type": "execute_result"
    }
   ],
   "source": [
    "review_words_count = review_only.map(lambda x: (x, 1)) \\\n",
    "    .reduceByKey(lambda x,y:x+y) \\\n",
    "    .map(lambda x: (x[1], x[0])) \\\n",
    "    .sortByKey(False)\n",
    "\n",
    "review_words_count.take(10)"
   ]
  },
  {
   "cell_type": "markdown",
   "metadata": {},
   "source": [
    "#### Word Cloud for Reviews\n",
    "\n",
    "#### Notice: need to install wordclound in terminal using: pip install wordcloud"
   ]
  },
  {
   "cell_type": "code",
   "execution_count": 89,
   "metadata": {},
   "outputs": [
    {
     "name": "stdout",
     "output_type": "stream",
     "text": [
      "[nltk_data] Downloading package stopwords to /home/jovyan/nltk_data...\n",
      "[nltk_data]   Package stopwords is already up-to-date!\n",
      "[nltk_data] Downloading package punkt to /home/jovyan/nltk_data...\n",
      "[nltk_data]   Package punkt is already up-to-date!\n"
     ]
    },
    {
     "data": {
      "text/plain": [
       "True"
      ]
     },
     "execution_count": 89,
     "metadata": {},
     "output_type": "execute_result"
    }
   ],
   "source": [
    "import nltk\n",
    "from nltk.corpus import stopwords\n",
    "nltk.download('stopwords')\n",
    "nltk.download('punkt')"
   ]
  },
  {
   "cell_type": "code",
   "execution_count": 90,
   "metadata": {},
   "outputs": [],
   "source": [
    "f = open('filtered_reviews.txt','r',encoding='utf-8').read()\n",
    "from nltk.tokenize import word_tokenize\n",
    "from wordcloud import WordCloud #need to install wordcloud in terminal, use code: pip install wordcloud"
   ]
  },
  {
   "cell_type": "code",
   "execution_count": 91,
   "metadata": {},
   "outputs": [],
   "source": [
    "word_tokens = word_tokenize(f) \n",
    "stop_words=list(nltk.corpus.stopwords.words('english')) \n",
    "# Add \"phone\" to the stop words dictionary\n",
    "stop_words.append(\"phone\")\n",
    "\n",
    "filtered_sentence = [w for w in word_tokens if not w in stop_words] \n",
    "\n",
    "wl_space_split = \" \".join(filtered_sentence)"
   ]
  },
  {
   "cell_type": "code",
   "execution_count": 92,
   "metadata": {},
   "outputs": [
    {
     "data": {
      "image/png": "[encoded data removed]",
      "text/plain": [
       "<Figure size 432x288 with 1 Axes>"
      ]
     },
     "metadata": {
      "needs_background": "light"
     },
     "output_type": "display_data"
    },
    {
     "data": {
      "text/plain": [
       "<wordcloud.wordcloud.WordCloud at 0x7f6ee5780518>"
      ]
     },
     "execution_count": 92,
     "metadata": {},
     "output_type": "execute_result"
    }
   ],
   "source": [
    "#create wordcloud\n",
    "review_wc = WordCloud(\n",
    "        background_color=\"white\",\n",
    "        width=1500,             \n",
    "        height=960,              \n",
    "        margin=10               \n",
    "        ).generate(wl_space_split)\n",
    "plt.figure()\n",
    "plt.imshow(review_wc)\n",
    "plt.axis(\"off\")\n",
    "plt.show()\n",
    "review_wc.to_file('review_wc.png')"
   ]
  },
  {
   "cell_type": "markdown",
   "metadata": {},
   "source": [
    "# Word2Vec application"
   ]
  },
  {
   "cell_type": "markdown",
   "metadata": {},
   "source": [
    "GoodWords"
   ]
  },
  {
   "cell_type": "code",
   "execution_count": 93,
   "metadata": {},
   "outputs": [
    {
     "name": "stdout",
     "output_type": "stream",
     "text": [
      "nice: 0.7380595207214355\n",
      "great: 0.7105664014816284\n",
      "decent: 0.6520877480506897\n",
      "solid: 0.5832566618919373\n",
      "fantastic: 0.5819193124771118\n"
     ]
    }
   ],
   "source": [
    "from pyspark.mllib.feature import Word2Vec\n",
    "\n",
    "inp = fraud.map(lambda row: row.split(\" \"))\n",
    "\n",
    "word2vec = Word2Vec()\n",
    "model = word2vec.fit(inp)\n",
    "\n",
    "synonyms = model.findSynonyms('good', 5)\n",
    "\n",
    "for word, cosine_distance in synonyms:\n",
    "    print(\"{}: {}\".format(word, cosine_distance)) # print synonyms to good and cosine distance (bigger cosine distance indicates more similarity to good)"
   ]
  },
  {
   "cell_type": "markdown",
   "metadata": {},
   "source": [
    "BadWords"
   ]
  },
  {
   "cell_type": "code",
   "execution_count": 94,
   "metadata": {},
   "outputs": [
    {
     "name": "stdout",
     "output_type": "stream",
     "text": [
      "good: 0.5224729180335999\n",
      "terrible: 0.5125560760498047\n",
      "bad,: 0.5032122135162354\n",
      "!The: 0.4726254940032959\n",
      "p: 0.46390917897224426\n"
     ]
    }
   ],
   "source": [
    "inp = fraud.map(lambda row: row.split(\" \"))\n",
    "\n",
    "word2vec = Word2Vec()\n",
    "model = word2vec.fit(inp)\n",
    "\n",
    "synonyms = model.findSynonyms('bad', 5)\n",
    "\n",
    "for word, cosine_distance in synonyms:\n",
    "    print(\"{}: {}\".format(word, cosine_distance)) #the word good is in the output because it often appears along with bad, but we still count \"good\" as good words"
   ]
  },
  {
   "cell_type": "markdown",
   "metadata": {},
   "source": [
    "#### Sentiment Words Analysis"
   ]
  },
  {
   "cell_type": "code",
   "execution_count": 95,
   "metadata": {},
   "outputs": [],
   "source": [
    "import pyspark.sql.functions as F"
   ]
  },
  {
   "cell_type": "code",
   "execution_count": 96,
   "metadata": {},
   "outputs": [],
   "source": [
    "gooddict = [\"good\",\"great\",\"nice\",\"wonderful\",\"best\",\"perfect\",\"fantastic\",\"greatest\",\n",
    "            \"love\",\"like\",\"awesome\",\"thank\",\"amazing\",\"recommend\"]\n",
    "baddict = [\"bad\",\"worse\",\"worst\",\"terrible\",\"never\",\"fake\",\"not\",\"problem\",\"slow\",\"returned\",\n",
    "           \"disappointed\",\"complaint\",\"issue\"]"
   ]
  },
  {
   "cell_type": "code",
   "execution_count": 97,
   "metadata": {},
   "outputs": [],
   "source": [
    "def Sentiment(word_dict,data_rdd):\n",
    "    count = []\n",
    "    for w in word_dict:\n",
    "        wordcount = data_rdd.filter(lambda r: w in r).count()\n",
    "        count.append(wordcount)\n",
    "    sentiment = pd.DataFrame(index=word_dict, columns=['wordCount'], data=count)\n",
    "    sentiment.sort_values(by='wordCount', ascending=False, inplace=True)\n",
    "    return sentiment.head(10)"
   ]
  },
  {
   "cell_type": "code",
   "execution_count": 98,
   "metadata": {},
   "outputs": [
    {
     "data": {
      "text/html": [
       "<div>\n",
       "<style scoped>\n",
       "    .dataframe tbody tr th:only-of-type {\n",
       "        vertical-align: middle;\n",
       "    }\n",
       "\n",
       "    .dataframe tbody tr th {\n",
       "        vertical-align: top;\n",
       "    }\n",
       "\n",
       "    .dataframe thead th {\n",
       "        text-align: right;\n",
       "    }\n",
       "</style>\n",
       "<table border=\"1\" class=\"dataframe\">\n",
       "  <thead>\n",
       "    <tr style=\"text-align: right;\">\n",
       "      <th></th>\n",
       "      <th>wordCount</th>\n",
       "    </tr>\n",
       "  </thead>\n",
       "  <tbody>\n",
       "    <tr>\n",
       "      <th>great</th>\n",
       "      <td>21310</td>\n",
       "    </tr>\n",
       "    <tr>\n",
       "      <th>good</th>\n",
       "      <td>20170</td>\n",
       "    </tr>\n",
       "    <tr>\n",
       "      <th>like</th>\n",
       "      <td>13156</td>\n",
       "    </tr>\n",
       "    <tr>\n",
       "      <th>love</th>\n",
       "      <td>11966</td>\n",
       "    </tr>\n",
       "    <tr>\n",
       "      <th>perfect</th>\n",
       "      <td>6033</td>\n",
       "    </tr>\n",
       "    <tr>\n",
       "      <th>nice</th>\n",
       "      <td>5947</td>\n",
       "    </tr>\n",
       "    <tr>\n",
       "      <th>recommend</th>\n",
       "      <td>4332</td>\n",
       "    </tr>\n",
       "    <tr>\n",
       "      <th>best</th>\n",
       "      <td>3831</td>\n",
       "    </tr>\n",
       "    <tr>\n",
       "      <th>thank</th>\n",
       "      <td>3538</td>\n",
       "    </tr>\n",
       "    <tr>\n",
       "      <th>amazing</th>\n",
       "      <td>2437</td>\n",
       "    </tr>\n",
       "  </tbody>\n",
       "</table>\n",
       "</div>"
      ],
      "text/plain": [
       "           wordCount\n",
       "great          21310\n",
       "good           20170\n",
       "like           13156\n",
       "love           11966\n",
       "perfect         6033\n",
       "nice            5947\n",
       "recommend       4332\n",
       "best            3831\n",
       "thank           3538\n",
       "amazing         2437"
      ]
     },
     "execution_count": 98,
     "metadata": {},
     "output_type": "execute_result"
    }
   ],
   "source": [
    "# top 10 most frequently used positive words\n",
    "Sentiment(gooddict, review_only)"
   ]
  },
  {
   "cell_type": "code",
   "execution_count": 99,
   "metadata": {},
   "outputs": [
    {
     "data": {
      "text/html": [
       "<div>\n",
       "<style scoped>\n",
       "    .dataframe tbody tr th:only-of-type {\n",
       "        vertical-align: middle;\n",
       "    }\n",
       "\n",
       "    .dataframe tbody tr th {\n",
       "        vertical-align: top;\n",
       "    }\n",
       "\n",
       "    .dataframe thead th {\n",
       "        text-align: right;\n",
       "    }\n",
       "</style>\n",
       "<table border=\"1\" class=\"dataframe\">\n",
       "  <thead>\n",
       "    <tr style=\"text-align: right;\">\n",
       "      <th></th>\n",
       "      <th>wordCount</th>\n",
       "    </tr>\n",
       "  </thead>\n",
       "  <tbody>\n",
       "    <tr>\n",
       "      <th>not</th>\n",
       "      <td>7712</td>\n",
       "    </tr>\n",
       "    <tr>\n",
       "      <th>problem</th>\n",
       "      <td>7228</td>\n",
       "    </tr>\n",
       "    <tr>\n",
       "      <th>issue</th>\n",
       "      <td>4387</td>\n",
       "    </tr>\n",
       "    <tr>\n",
       "      <th>never</th>\n",
       "      <td>3089</td>\n",
       "    </tr>\n",
       "    <tr>\n",
       "      <th>bad</th>\n",
       "      <td>2952</td>\n",
       "    </tr>\n",
       "    <tr>\n",
       "      <th>slow</th>\n",
       "      <td>2063</td>\n",
       "    </tr>\n",
       "    <tr>\n",
       "      <th>disappointed</th>\n",
       "      <td>1601</td>\n",
       "    </tr>\n",
       "    <tr>\n",
       "      <th>complaint</th>\n",
       "      <td>1053</td>\n",
       "    </tr>\n",
       "    <tr>\n",
       "      <th>returned</th>\n",
       "      <td>1032</td>\n",
       "    </tr>\n",
       "    <tr>\n",
       "      <th>terrible</th>\n",
       "      <td>681</td>\n",
       "    </tr>\n",
       "  </tbody>\n",
       "</table>\n",
       "</div>"
      ],
      "text/plain": [
       "              wordCount\n",
       "not                7712\n",
       "problem            7228\n",
       "issue              4387\n",
       "never              3089\n",
       "bad                2952\n",
       "slow               2063\n",
       "disappointed       1601\n",
       "complaint          1053\n",
       "returned           1032\n",
       "terrible            681"
      ]
     },
     "execution_count": 99,
     "metadata": {},
     "output_type": "execute_result"
    }
   ],
   "source": [
    "# top 10 most frequently used negative words\n",
    "Sentiment(baddict, review_only)"
   ]
  },
  {
   "cell_type": "markdown",
   "metadata": {},
   "source": [
    "#### Brand Rating Analysis"
   ]
  },
  {
   "cell_type": "code",
   "execution_count": 100,
   "metadata": {},
   "outputs": [
    {
     "name": "stdout",
     "output_type": "stream",
     "text": [
      "rows=315\n"
     ]
    }
   ],
   "source": [
    "#distinct brand count\n",
    "#total 315 brands\n",
    "print('rows={}'.format(data.select('BrandName').distinct().count()))"
   ]
  },
  {
   "cell_type": "code",
   "execution_count": 101,
   "metadata": {},
   "outputs": [
    {
     "name": "stdout",
     "output_type": "stream",
     "text": [
      "+----------+-----+\n",
      "| BrandName|count|\n",
      "+----------+-----+\n",
      "|   Samsung|16002|\n",
      "|       BLU|15250|\n",
      "|     Apple|14324|\n",
      "|        LG| 5424|\n",
      "|BlackBerry| 4028|\n",
      "+----------+-----+\n",
      "only showing top 5 rows\n",
      "\n"
     ]
    }
   ],
   "source": [
    "#distribution of Brand reviews\n",
    "brandcount=data.groupBy(\"BrandName\").count() \\\n",
    "        .orderBy(col(\"count\").desc())\n",
    "brandcount.show(5)"
   ]
  },
  {
   "cell_type": "code",
   "execution_count": 102,
   "metadata": {},
   "outputs": [
    {
     "name": "stdout",
     "output_type": "stream",
     "text": [
      "+--------------------+-----------+\n",
      "|           BrandName|avg(Rating)|\n",
      "+--------------------+-----------+\n",
      "|samsung galaxy in...|        5.0|\n",
      "|           Quick-get|        5.0|\n",
      "|Seawolf Technologies|        5.0|\n",
      "|           microsoft|        5.0|\n",
      "|             Getnord|        5.0|\n",
      "+--------------------+-----------+\n",
      "only showing top 5 rows\n",
      "\n"
     ]
    }
   ],
   "source": [
    "#comput average rating for each brand \n",
    "avgRating=data.groupBy(\"BrandName\").agg(F.mean('Rating'))\n",
    "avgRating.sort(\"avg(Rating)\",ascending=False,inplace=True).show(5)"
   ]
  },
  {
   "cell_type": "code",
   "execution_count": 103,
   "metadata": {},
   "outputs": [
    {
     "name": "stdout",
     "output_type": "stream",
     "text": [
      "+----------+---------+\n",
      "| BrandName|ratecount|\n",
      "+----------+---------+\n",
      "|   Samsung|    16002|\n",
      "|       BLU|    15250|\n",
      "|     Apple|    14324|\n",
      "|        LG|     5424|\n",
      "|BlackBerry|     4028|\n",
      "+----------+---------+\n",
      "only showing top 5 rows\n",
      "\n"
     ]
    }
   ],
   "source": [
    "#rate count for each brand\n",
    "br=data.select(['BrandName','Rating'])\n",
    "ratecount=br.groupBy(\"BrandName\").count()\\\n",
    "            .orderBy(col(\"count\").desc())\\\n",
    "            .selectExpr(\"BrandName as BrandName\",\"count as ratecount\")\n",
    "ratecount.show(5)"
   ]
  },
  {
   "cell_type": "markdown",
   "metadata": {},
   "source": [
    "#### 5-Star Rate for Each Brand"
   ]
  },
  {
   "cell_type": "code",
   "execution_count": 104,
   "metadata": {},
   "outputs": [
    {
     "name": "stdout",
     "output_type": "stream",
     "text": [
      "+----------+--------------+\n",
      "| BrandName|5starratecount|\n",
      "+----------+--------------+\n",
      "|   Samsung|          9385|\n",
      "|     Apple|          8783|\n",
      "|       BLU|          7597|\n",
      "|        LG|          2948|\n",
      "|BlackBerry|          2141|\n",
      "+----------+--------------+\n",
      "only showing top 5 rows\n",
      "\n"
     ]
    }
   ],
   "source": [
    "# 5-star rate count for each brand\n",
    "rate5starcount=br.filter(df[\"Rating\"]==5)\\\n",
    "                .groupBy(\"BrandName\").count()\\\n",
    "                .orderBy(col(\"count\").desc())\\\n",
    "                .selectExpr(\"BrandName as BrandName\",\"count as 5starratecount\")\n",
    "rate5starcount.show(5)"
   ]
  },
  {
   "cell_type": "code",
   "execution_count": 105,
   "metadata": {},
   "outputs": [],
   "source": [
    "#join all dataframes\n",
    "data2=brandcount.join(avgRating,[\"BrandName\"]).join(ratecount,[\"BrandName\"]).join(rate5starcount,[\"BrandName\"])"
   ]
  },
  {
   "cell_type": "code",
   "execution_count": 106,
   "metadata": {},
   "outputs": [
    {
     "name": "stdout",
     "output_type": "stream",
     "text": [
      "+----------+-----+------------------+---------+--------------+------------------+\n",
      "| BrandName|count|       avg(Rating)|ratecount|5starratecount|      5StarPercent|\n",
      "+----------+-----+------------------+---------+--------------+------------------+\n",
      "|   Samsung|16002| 3.973065866766654|    16002|          9385|0.5864891888513936|\n",
      "|       BLU|15250| 3.787213114754098|    15250|          7597|0.4981639344262295|\n",
      "|     Apple|14324|3.9247416922647305|    14324|          8783|0.6131667132086009|\n",
      "|        LG| 5424| 3.840523598820059|     5424|          2948|0.5435103244837758|\n",
      "|BlackBerry| 4028| 3.743296921549156|     4028|          2141|0.5315292949354519|\n",
      "+----------+-----+------------------+---------+--------------+------------------+\n",
      "only showing top 5 rows\n",
      "\n"
     ]
    }
   ],
   "source": [
    "#compute 5-star rate count for each brand name\n",
    "data3=data2.withColumn('5StarPercent',F.col('5starratecount')/F.col('ratecount')).sort(\"count\",ascending=False,inplace=True)\n",
    "data3.show(5)"
   ]
  },
  {
   "cell_type": "markdown",
   "metadata": {},
   "source": [
    "#### Word Cloud for Brands Based on 5-Star Rate"
   ]
  },
  {
   "cell_type": "code",
   "execution_count": 107,
   "metadata": {},
   "outputs": [],
   "source": [
    "import matplotlib.pyplot as plt\n",
    "%matplotlib inline"
   ]
  },
  {
   "cell_type": "code",
   "execution_count": 108,
   "metadata": {},
   "outputs": [],
   "source": [
    "# Select only \"BrandName\" and its frequencies\n",
    "five_star_rate=data3.select(\"BrandName\",\"5StarPercent\").sort(\"5StarPercent\",ascending=False,inplace=True)\n",
    "# Transform df to list\n",
    "frequencies = five_star_rate.toPandas().set_index('BrandName').T.to_dict('records')"
   ]
  },
  {
   "cell_type": "code",
   "execution_count": 109,
   "metadata": {},
   "outputs": [
    {
     "data": {
      "image/png": "[encoded data removed]",
      "text/plain": [
       "<Figure size 432x288 with 1 Axes>"
      ]
     },
     "metadata": {
      "needs_background": "light"
     },
     "output_type": "display_data"
    },
    {
     "data": {
      "text/plain": [
       "<wordcloud.wordcloud.WordCloud at 0x7f6ea9b17940>"
      ]
     },
     "execution_count": 109,
     "metadata": {},
     "output_type": "execute_result"
    }
   ],
   "source": [
    "five_star_rate_wc = WordCloud(\n",
    "        background_color=\"white\", \n",
    "        width=1500,              \n",
    "        height=960,              \n",
    "        margin=10               \n",
    "        ).generate_from_frequencies(dict(*frequencies))\n",
    "plt.figure()\n",
    "plt.imshow(five_star_rate_wc, interpolation=\"bilinear\")\n",
    "plt.axis(\"off\")\n",
    "plt.show()\n",
    "# Save Image\n",
    "five_star_rate_wc.to_file('five_star_rate_wc.png') "
   ]
  },
  {
   "cell_type": "markdown",
   "metadata": {},
   "source": [
    "#### Brand Distribution & Average Rating"
   ]
  },
  {
   "cell_type": "code",
   "execution_count": 110,
   "metadata": {},
   "outputs": [],
   "source": [
    "top20=data3.collect()[0:20]\n",
    "Brands = [i[0] for i in top20]\n",
    "counts = [i[1] for i in top20]\n",
    "ratingavg=[i[2] for i in top20]\n",
    "starpercentage=[i[5] for i in top20]\n",
    "ind = np.array(range(len(top20)))\n",
    "width = 0.35"
   ]
  },
  {
   "cell_type": "code",
   "execution_count": 111,
   "metadata": {},
   "outputs": [
    {
     "data": {
      "image/png": "[encoded data removed]",
      "text/plain": [
       "<Figure size 432x288 with 2 Axes>"
      ]
     },
     "metadata": {
      "needs_background": "light"
     },
     "output_type": "display_data"
    }
   ],
   "source": [
    "fig, ax1 = plt.subplots()\n",
    "#plot first graph\n",
    "plt.plot(ind, ratingavg, color='g')\n",
    "plt.xticks(ind + width/2., Brands,fontsize=5)\n",
    "plt.xlabel('BrandNames')\n",
    "plt.ylabel('Average Rating')\n",
    "plt.title('Brand Distribution, Average Rating ')\n",
    "\n",
    "ax2 = ax1.twinx()\n",
    "#plot second graph\n",
    "plt.bar(ind, counts, width=width, color='r')\n",
    "plt.ylabel('Counts')\n",
    "plt.xlabel('Brand Names')\n",
    "plt.xticks(ind + width/2., Brands,fontsize=5)\n",
    "\n",
    "plt.show()"
   ]
  },
  {
   "cell_type": "markdown",
   "metadata": {},
   "source": [
    "#### Word Cloud for Samsung"
   ]
  },
  {
   "cell_type": "code",
   "execution_count": 112,
   "metadata": {},
   "outputs": [],
   "source": [
    "reviewSamsung=data.filter(data[\"BrandName\"]==\"Samsung\")"
   ]
  },
  {
   "cell_type": "code",
   "execution_count": 113,
   "metadata": {},
   "outputs": [],
   "source": [
    "from pyspark.ml.feature import RegexTokenizer, StopWordsRemover, CountVectorizer\n",
    "from pyspark.ml.classification import LogisticRegression\n",
    "# regular expression tokenizer\n",
    "regexTokenizer = RegexTokenizer(inputCol=\"Reviews\", outputCol=\"words\", pattern=\"\\\\W\")\n",
    "# stop words\n",
    "stop_words=list(nltk.corpus.stopwords.words('english')) "
   ]
  },
  {
   "cell_type": "code",
   "execution_count": 114,
   "metadata": {},
   "outputs": [],
   "source": [
    "# Add \"phone\" to the stop words dictionary\n",
    "stop_words.append(\"phone\")"
   ]
  },
  {
   "cell_type": "code",
   "execution_count": 115,
   "metadata": {},
   "outputs": [],
   "source": [
    "stopwordsRemover = StopWordsRemover(inputCol=\"words\", outputCol=\"filtered\",stopWords=stop_words)"
   ]
  },
  {
   "cell_type": "code",
   "execution_count": 116,
   "metadata": {},
   "outputs": [
    {
     "name": "stdout",
     "output_type": "stream",
     "text": [
      "+---------+------+--------------------+--------------------+--------------------+\n",
      "|BrandName|Rating|             Reviews|               words|            filtered|\n",
      "+---------+------+--------------------+--------------------+--------------------+\n",
      "|  Samsung|     5|I bought this as ...|[i, bought, this,...|[bought, travel, ...|\n",
      "|  Samsung|     4|This is a great p...|[this, is, a, gre...|[great, easy, set...|\n",
      "|  Samsung|     5|Great phone with ...|[great, phone, wi...|[great, fantastic...|\n",
      "|  Samsung|     5|       Great Product|    [great, product]|    [great, product]|\n",
      "|  Samsung|     5|i bought this as ...|[i, bought, this,...|[bought, gift, so...|\n",
      "+---------+------+--------------------+--------------------+--------------------+\n",
      "only showing top 5 rows\n",
      "\n"
     ]
    }
   ],
   "source": [
    "#tokenize Samsung reivews\n",
    "pipelinerate=Pipeline(stages=[regexTokenizer,stopwordsRemover])\n",
    "pipelineratefit=pipelinerate.fit(reviewSamsung)\n",
    "datasetReview=pipelineratefit.transform(reviewSamsung)\n",
    "datasetReview.show(5)"
   ]
  },
  {
   "cell_type": "code",
   "execution_count": 117,
   "metadata": {},
   "outputs": [],
   "source": [
    "datasetPanda=datasetReview.select(\"filtered\").toPandas()\n",
    "#create a text file \n",
    "datasetPanda.to_csv('Samsung.txt', index=False, sep=' ', header=None)"
   ]
  },
  {
   "cell_type": "code",
   "execution_count": 118,
   "metadata": {},
   "outputs": [],
   "source": [
    "f = open('Samsung.txt','r',encoding='utf-8').read()\n",
    "from nltk.tokenize import word_tokenize \n",
    "  \n",
    "word_tokens = word_tokenize(f) \n",
    "  \n",
    "filtered_sentence = [w for w in word_tokens if not w in stop_words] \n",
    "\n",
    "wl_space_split = \" \".join(filtered_sentence)"
   ]
  },
  {
   "cell_type": "code",
   "execution_count": 119,
   "metadata": {},
   "outputs": [
    {
     "data": {
      "image/png": "[encoded data removed]",
      "text/plain": [
       "<Figure size 432x288 with 1 Axes>"
      ]
     },
     "metadata": {
      "needs_background": "light"
     },
     "output_type": "display_data"
    },
    {
     "data": {
      "text/plain": [
       "<wordcloud.wordcloud.WordCloud at 0x7f6ead845a20>"
      ]
     },
     "execution_count": 119,
     "metadata": {},
     "output_type": "execute_result"
    }
   ],
   "source": [
    "wordcloud = WordCloud(\n",
    "        background_color=\"white\", \n",
    "        width=1500,              \n",
    "        height=960,              \n",
    "        margin=10              \n",
    "        ).generate(wl_space_split)\n",
    "plt.imshow(wordcloud)\n",
    "plt.axis(\"off\")\n",
    "plt.show()\n",
    "wordcloud.to_file('Samsung_wc.png')"
   ]
  },
  {
   "cell_type": "markdown",
   "metadata": {},
   "source": [
    "### 4. model construction, with at least 3 models\n",
    "(3PTS) ideally the models are constructed using pipelines\n",
    "\n",
    "A complete project will consider at least 2 models:\n",
    "\n",
    "1.  A benchmark model, which is relatively simple.  This could be a regression model with a small number of features (possibly a single feature).  This provides a basis for comparison and a sanity check.\n",
    "2. A more sophisticated model, which could be one of the models covered in class.  The best model found in your experiments is called the champion model.\n",
    "\n",
    "The model construction process should follow the best practices covered in class, including:\n",
    "\n",
    "a.\tData preprocessing.  The required steps will depend on the model, and could include:\n",
    "\n",
    "\ti. dummy variable construction\n",
    "\tii. feature scaling\n",
    " \tiii. handling missing values and outliers\n",
    "\tiv. handling semi-structured / unstructured data\n",
    "\tv. dimensionality reduction (e.g., PCA)\n",
    "\n",
    "b.\tData splitting (train/validation/test sets, for example).  The test set should be left out for evaluation purposes.  It should NOT be used in training.\n",
    "c.\tK-fold cross validation of hyperparameters\n"
   ]
  },
  {
   "cell_type": "markdown",
   "metadata": {},
   "source": [
    "#### Lasso Regression"
   ]
  },
  {
   "cell_type": "code",
   "execution_count": 120,
   "metadata": {},
   "outputs": [],
   "source": [
    "from pyspark.ml.regression import LinearRegression\n",
    "from pyspark.mllib.regression import LabeledPoint"
   ]
  },
  {
   "cell_type": "code",
   "execution_count": 121,
   "metadata": {},
   "outputs": [],
   "source": [
    "lar= LinearRegression(featuresCol=\"features\",labelCol=\"label\",maxIter=10, regParam=0.3, elasticNetParam=1)\n",
    "larmodel = lar.fit(trainingData)"
   ]
  },
  {
   "cell_type": "code",
   "execution_count": 122,
   "metadata": {},
   "outputs": [
    {
     "name": "stdout",
     "output_type": "stream",
     "text": [
      "Coefficients: [0.0,0.0,0.0,0.0,0.0,0.0,0.0,0.0,0.0,0.0,0.0,0.0,0.0,0.0,0.0,0.0,0.0,0.0,0.0,0.0]\n",
      "Intercept: 0.9509320545724707\n"
     ]
    }
   ],
   "source": [
    "print(\"Coefficients: %s\" % str(larmodel.coefficients))\n",
    "print(\"Intercept: %s\" % str(larmodel.intercept))"
   ]
  },
  {
   "cell_type": "code",
   "execution_count": 123,
   "metadata": {},
   "outputs": [
    {
     "name": "stdout",
     "output_type": "stream",
     "text": [
      "RMSE: 1.241487\n",
      "r2: 0.000000\n"
     ]
    }
   ],
   "source": [
    "lartrainingSummary = larmodel.summary\n",
    "\n",
    "print(\"RMSE: %f\" % lartrainingSummary.rootMeanSquaredError)\n",
    "print(\"r2: %f\" % lartrainingSummary.r2)"
   ]
  },
  {
   "cell_type": "markdown",
   "metadata": {},
   "source": [
    "#### Logistic Regression"
   ]
  },
  {
   "cell_type": "code",
   "execution_count": 124,
   "metadata": {},
   "outputs": [],
   "source": [
    "from pyspark.ml.classification import LogisticRegression\n",
    "from pyspark.ml.evaluation import MulticlassClassificationEvaluator"
   ]
  },
  {
   "cell_type": "code",
   "execution_count": 136,
   "metadata": {},
   "outputs": [],
   "source": [
    "lr= LogisticRegression(maxIter=20, regParam=0.3, elasticNetParam=0)\n",
    "lrModel= lr.fit(trainingData)\n",
    "lrpredictions = lrModel.transform(testData)\n",
    "lrevaluator = MulticlassClassificationEvaluator(predictionCol=\"prediction\")"
   ]
  },
  {
   "cell_type": "code",
   "execution_count": 126,
   "metadata": {},
   "outputs": [],
   "source": [
    "lrtrainingSummary = lrModel.summary"
   ]
  },
  {
   "cell_type": "code",
   "execution_count": 127,
   "metadata": {},
   "outputs": [
    {
     "name": "stdout",
     "output_type": "stream",
     "text": [
      "False positive rate by label:\n",
      "label 0: 0.9851219779017613\n",
      "label 1: 0.006293677714659365\n",
      "label 2: 0.004239734071139951\n",
      "label 3: 1.8288891327407734e-05\n",
      "label 4: 0.0\n"
     ]
    }
   ],
   "source": [
    "# for multiclass, we can inspect metrics on a per-label basis\n",
    "print(\"False positive rate by label:\")\n",
    "for i, rate in enumerate(lrtrainingSummary.falsePositiveRateByLabel):\n",
    "    print(\"label %d: %s\" % (i, rate))"
   ]
  },
  {
   "cell_type": "code",
   "execution_count": 128,
   "metadata": {},
   "outputs": [
    {
     "name": "stdout",
     "output_type": "stream",
     "text": [
      "True positive rate by label:\n",
      "label 0: 0.9907864532561869\n",
      "label 1: 0.008360878864475986\n",
      "label 2: 0.010350584307178631\n",
      "label 3: 0.0\n",
      "label 4: 0.0\n"
     ]
    }
   ],
   "source": [
    "print(\"True positive rate by label:\")\n",
    "for i, rate in enumerate(lrtrainingSummary.truePositiveRateByLabel):\n",
    "    print(\"label %d: %s\" % (i, rate))"
   ]
  },
  {
   "cell_type": "code",
   "execution_count": 129,
   "metadata": {},
   "outputs": [
    {
     "name": "stdout",
     "output_type": "stream",
     "text": [
      "Precision by label:\n",
      "label 0: 0.5383866172274149\n",
      "label 1: 0.2182741116751269\n",
      "label 2: 0.30392156862745096\n",
      "label 3: 0.0\n",
      "label 4: 0.0\n"
     ]
    }
   ],
   "source": [
    "print(\"Precision by label:\")\n",
    "for i, prec in enumerate(lrtrainingSummary.precisionByLabel):\n",
    "    print(\"label %d: %s\" % (i, prec))"
   ]
  },
  {
   "cell_type": "code",
   "execution_count": 130,
   "metadata": {},
   "outputs": [
    {
     "name": "stdout",
     "output_type": "stream",
     "text": [
      "Recall by label:\n",
      "label 0: 0.9907864532561869\n",
      "label 1: 0.008360878864475986\n",
      "label 2: 0.010350584307178631\n",
      "label 3: 0.0\n",
      "label 4: 0.0\n"
     ]
    }
   ],
   "source": [
    "print(\"Recall by label:\")\n",
    "for i, rec in enumerate(lrtrainingSummary.recallByLabel):\n",
    "    print(\"label %d: %s\" % (i, rec))"
   ]
  },
  {
   "cell_type": "code",
   "execution_count": 131,
   "metadata": {},
   "outputs": [
    {
     "name": "stdout",
     "output_type": "stream",
     "text": [
      "F-measure by label:\n",
      "label 0: 0.6976661795314645\n",
      "label 1: 0.01610486891385768\n",
      "label 2: 0.02001937358734259\n",
      "label 3: 0.0\n",
      "label 4: 0.0\n"
     ]
    }
   ],
   "source": [
    "print(\"F-measure by label:\")\n",
    "for i, f in enumerate(lrtrainingSummary.fMeasureByLabel()):\n",
    "    print(\"label %d: %s\" % (i, f))"
   ]
  },
  {
   "cell_type": "code",
   "execution_count": 132,
   "metadata": {},
   "outputs": [
    {
     "name": "stdout",
     "output_type": "stream",
     "text": [
      "Accuracy: 0.5350364717006619\n",
      "FPR: 0.5307101502795499\n",
      "TPR: 0.5350364717006618\n",
      "F-measure: 0.3804540545827758\n",
      "Precision: 0.37311116475173955\n",
      "Recall: 0.5350364717006618\n"
     ]
    }
   ],
   "source": [
    "lraccuracy = lrtrainingSummary.accuracy\n",
    "lrfalsePositiveRate = lrtrainingSummary.weightedFalsePositiveRate\n",
    "lrtruePositiveRate = lrtrainingSummary.weightedTruePositiveRate\n",
    "lrfMeasure = lrtrainingSummary.weightedFMeasure()\n",
    "lrprecision = lrtrainingSummary.weightedPrecision\n",
    "lrrecall = lrtrainingSummary.weightedRecall\n",
    "print(\"Accuracy: %s\\nFPR: %s\\nTPR: %s\\nF-measure: %s\\nPrecision: %s\\nRecall: %s\"\n",
    "      % (lraccuracy, lrfalsePositiveRate, lrtruePositiveRate, lrfMeasure, lrprecision, lrrecall))"
   ]
  },
  {
   "cell_type": "markdown",
   "metadata": {},
   "source": [
    "Cross Validation:"
   ]
  },
  {
   "cell_type": "code",
   "execution_count": 133,
   "metadata": {},
   "outputs": [],
   "source": [
    "from pyspark.ml.tuning import ParamGridBuilder, CrossValidator"
   ]
  },
  {
   "cell_type": "code",
   "execution_count": 134,
   "metadata": {},
   "outputs": [],
   "source": [
    "# Create ParamGrid for Cross Validation\n",
    "lrparamGrid = (ParamGridBuilder()\n",
    "             .addGrid(lr.regParam, [0.1, 0.3, 0.5]) # regularization parameter\n",
    "             .addGrid(lr.elasticNetParam, [0.0, 0.1, 0.2]) # Elastic Net Parameter (Ridge = 0)\n",
    "#            .addGrid(model.maxIter, [10, 20, 50]) #Number of iterations\n",
    "#            .addGrid(idf.numFeatures, [10, 100, 1000]) # Number of features\n",
    "             .build())"
   ]
  },
  {
   "cell_type": "code",
   "execution_count": 138,
   "metadata": {},
   "outputs": [],
   "source": [
    "# Create 5-fold CrossValidator\n",
    "lrcv = CrossValidator(estimator=lr, \\\n",
    "                    estimatorParamMaps=lrparamGrid, \\\n",
    "                    evaluator=lrevaluator, \\\n",
    "                    numFolds=5)"
   ]
  },
  {
   "cell_type": "code",
   "execution_count": 139,
   "metadata": {},
   "outputs": [],
   "source": [
    "lrcvModel= lrcv.fit(trainingData)"
   ]
  },
  {
   "cell_type": "code",
   "execution_count": 140,
   "metadata": {},
   "outputs": [],
   "source": [
    "lrcvpredictions= lrcvModel.transform(testData)"
   ]
  },
  {
   "cell_type": "code",
   "execution_count": 141,
   "metadata": {},
   "outputs": [],
   "source": [
    "# Evaluate best model\n",
    "lrcvevaluator = MulticlassClassificationEvaluator(predictionCol=\"prediction\")"
   ]
  },
  {
   "cell_type": "code",
   "execution_count": 142,
   "metadata": {},
   "outputs": [],
   "source": [
    "# compute accuracy\n",
    "lrcvaccuracy = lrcvevaluator.evaluate(lrcvpredictions)\n",
    "# compute f1 score\n",
    "lrcvevaluator_f1 = MulticlassClassificationEvaluator(predictionCol=\"prediction\", metricName=\"f1\")\n",
    "lrcvf1 = lrcvevaluator_f1.evaluate(lrcvpredictions)\n",
    "# compute weighted precision\n",
    "lrcvevaluator_precision = MulticlassClassificationEvaluator(predictionCol=\"prediction\", metricName=\"weightedPrecision\")\n",
    "lrcvprecision = lrcvevaluator_precision.evaluate(lrcvpredictions)\n",
    "#compute weighted recall\n",
    "lrcvevaluator_recall = MulticlassClassificationEvaluator(predictionCol=\"prediction\", metricName=\"weightedRecall\")\n",
    "lrcvrecall = lrcvevaluator_recall.evaluate(lrcvpredictions)"
   ]
  },
  {
   "cell_type": "code",
   "execution_count": 143,
   "metadata": {},
   "outputs": [
    {
     "name": "stdout",
     "output_type": "stream",
     "text": [
      "Accuracy: 0.3819103203477419\n",
      "F1-sore: 0.3819103203477419\n",
      "Precision: 0.3700714358310817\n",
      "Recall: 0.5361385941908055\n"
     ]
    }
   ],
   "source": [
    "print(\"Accuracy: %s\\nF1-sore: %s\\nPrecision: %s\\nRecall: %s\"\n",
    "      % (lrcvaccuracy, lrcvf1, lrcvprecision, lrcvrecall))"
   ]
  },
  {
   "cell_type": "markdown",
   "metadata": {},
   "source": [
    "#### Random Forest"
   ]
  },
  {
   "cell_type": "code",
   "execution_count": 144,
   "metadata": {},
   "outputs": [],
   "source": [
    "from pyspark.ml.classification import RandomForestClassifier\n",
    "from pyspark.ml.feature import IndexToString, StringIndexer, VectorIndexer\n",
    "from pyspark.ml.evaluation import MulticlassClassificationEvaluator"
   ]
  },
  {
   "cell_type": "markdown",
   "metadata": {},
   "source": [
    "Implement MulticlassClassificationEvaluator"
   ]
  },
  {
   "cell_type": "code",
   "execution_count": 145,
   "metadata": {},
   "outputs": [],
   "source": [
    "# Automatically identify categorical features, and index them.\n",
    "# Set maxCategories so features with > 5 distinct values are treated as continuous.\n",
    "featureIndexer =VectorIndexer(inputCol=\"features\", outputCol=\"indexedFeatures\", maxCategories=5).fit(input_data)"
   ]
  },
  {
   "cell_type": "code",
   "execution_count": 146,
   "metadata": {},
   "outputs": [],
   "source": [
    "# Train a RandomForest model.\n",
    "rf = RandomForestClassifier(labelCol=\"label\", featuresCol=\"indexedFeatures\", numTrees=10)"
   ]
  },
  {
   "cell_type": "code",
   "execution_count": 147,
   "metadata": {},
   "outputs": [],
   "source": [
    "# Chain indexers and forest in a Pipeline\n",
    "rfpipeline = Pipeline(stages=[featureIndexer, rf])"
   ]
  },
  {
   "cell_type": "code",
   "execution_count": 148,
   "metadata": {},
   "outputs": [],
   "source": [
    "# Train model.  This also runs the indexers.\n",
    "rftrainedmodel = rfpipeline.fit(trainingData)"
   ]
  },
  {
   "cell_type": "code",
   "execution_count": 149,
   "metadata": {},
   "outputs": [],
   "source": [
    "# Make predictions.\n",
    "rfpredictions = rftrainedmodel.transform(testData)"
   ]
  },
  {
   "cell_type": "code",
   "execution_count": 150,
   "metadata": {},
   "outputs": [],
   "source": [
    "# compute accuracy\n",
    "rfevaluator = MulticlassClassificationEvaluator(\n",
    "    labelCol=\"label\", predictionCol=\"prediction\", metricName=\"accuracy\")\n",
    "rfaccuracy = rfevaluator.evaluate(rfpredictions)\n",
    "# compute f1 score\n",
    "rfevaluator_f1 = MulticlassClassificationEvaluator(\n",
    "    labelCol=\"label\", predictionCol=\"prediction\", metricName=\"f1\")\n",
    "rff1 = rfevaluator_f1.evaluate(rfpredictions)\n",
    "# compute weighted Precision\n",
    "rfevaluator_precision = MulticlassClassificationEvaluator(\n",
    "    labelCol=\"label\", predictionCol=\"prediction\", metricName=\"weightedPrecision\")\n",
    "rfprecision = rfevaluator_precision.evaluate(rfpredictions)\n",
    "# compute weighted Recall\n",
    "rfevaluator_recall = MulticlassClassificationEvaluator(\n",
    "    labelCol=\"label\", predictionCol=\"prediction\", metricName=\"weightedRecall\")\n",
    "rfrecall = rfevaluator_recall.evaluate(rfpredictions)"
   ]
  },
  {
   "cell_type": "code",
   "execution_count": 151,
   "metadata": {},
   "outputs": [
    {
     "name": "stdout",
     "output_type": "stream",
     "text": [
      "Accuracy: 0.5446020582508841\n",
      "F1-sore: 0.39957777746850526\n",
      "Precision: 0.37238425884367027\n",
      "Recall: 0.544602058250884\n"
     ]
    }
   ],
   "source": [
    "print(\"Accuracy: %s\\nF1-sore: %s\\nPrecision: %s\\nRecall: %s\"\n",
    "      % (rfaccuracy, rff1, rfprecision, rfrecall))"
   ]
  },
  {
   "cell_type": "markdown",
   "metadata": {},
   "source": [
    "Cross Validation:"
   ]
  },
  {
   "cell_type": "code",
   "execution_count": 152,
   "metadata": {},
   "outputs": [],
   "source": [
    "# Create ParamGrid for Cross Validation\n",
    "featureIndexer_t =VectorIndexer(inputCol=\"features\", outputCol=\"indexedFeatures\", maxCategories=5).fit(trainingData)\n",
    "rf_cv = RandomForestClassifier(labelCol=\"label\", featuresCol=\"indexedFeatures\")\n",
    "paramGrid_rf = (ParamGridBuilder()\n",
    "             .addGrid(rf.maxDepth,[10,20]) \n",
    "             .addGrid(rf.numTrees,[10,50,100])\n",
    "             .build())"
   ]
  },
  {
   "cell_type": "code",
   "execution_count": 153,
   "metadata": {},
   "outputs": [],
   "source": [
    "# Create 5-fold CrossValidator\n",
    "\n",
    "rfevaluator = MulticlassClassificationEvaluator(labelCol=\"label\", predictionCol=\"prediction\")\n",
    "pipelinecv=Pipeline(stages=[featureIndexer_t,rf_cv])\n",
    "cv_rf = CrossValidator(estimator=pipelinecv, \\\n",
    "                    estimatorParamMaps=paramGrid_rf, \\\n",
    "                    evaluator=rfevaluator, \\\n",
    "                    numFolds=5)"
   ]
  },
  {
   "cell_type": "code",
   "execution_count": 154,
   "metadata": {},
   "outputs": [],
   "source": [
    "cvModel_rf = cv_rf.fit(trainingData)"
   ]
  },
  {
   "cell_type": "code",
   "execution_count": 155,
   "metadata": {},
   "outputs": [],
   "source": [
    "#predict after training model\n",
    "rfpredictions_cv = cvModel_rf.transform(testData)\n",
    "#compute accuracy\n",
    "rfcvevaluator = MulticlassClassificationEvaluator(\n",
    "    labelCol=\"label\", predictionCol=\"prediction\", metricName=\"accuracy\")\n",
    "rfcvaccuracy = rfcvevaluator.evaluate(rfpredictions_cv)\n",
    "# compute f1 score\n",
    "rfcvevaluator_f1 = MulticlassClassificationEvaluator(\n",
    "    labelCol=\"label\", predictionCol=\"prediction\", metricName=\"f1\")\n",
    "rfcvf1 = rfcvevaluator_f1.evaluate(rfpredictions_cv)\n",
    "# compute weighted Precision\n",
    "rfcvevaluator_precision = MulticlassClassificationEvaluator(\n",
    "    labelCol=\"label\", predictionCol=\"prediction\", metricName=\"weightedPrecision\")\n",
    "rfcvprecision = rfcvevaluator_precision.evaluate(rfpredictions_cv)\n",
    "# compute weighted Recall\n",
    "rfcvevaluator_recall = MulticlassClassificationEvaluator(\n",
    "    labelCol=\"label\", predictionCol=\"prediction\", metricName=\"weightedRecall\")\n",
    "rfcvrecall = rfcvevaluator_recall.evaluate(rfpredictions_cv)"
   ]
  },
  {
   "cell_type": "code",
   "execution_count": 156,
   "metadata": {},
   "outputs": [
    {
     "name": "stdout",
     "output_type": "stream",
     "text": [
      "Accuracy: 0.54452258910478\n",
      "F1-sore: 0.40013003717442885\n",
      "Precision: 0.3741290200629017\n",
      "Recall: 0.54452258910478\n"
     ]
    }
   ],
   "source": [
    "print(\"Accuracy: %s\\nF1-sore: %s\\nPrecision: %s\\nRecall: %s\"\n",
    "      % (rfcvaccuracy, rfcvf1, rfcvprecision, rfcvrecall))"
   ]
  },
  {
   "cell_type": "markdown",
   "metadata": {},
   "source": [
    "#### Decision Tree"
   ]
  },
  {
   "cell_type": "code",
   "execution_count": 157,
   "metadata": {},
   "outputs": [],
   "source": [
    "from pyspark.ml.classification import DecisionTreeClassifier\n",
    "\n",
    "# Train a DecisionTree model.\n",
    "dt = DecisionTreeClassifier(labelCol=\"label\", featuresCol=\"indexedFeatures\")\n",
    "\n",
    "# Chain indexers and tree in a Pipeline\n",
    "dtpipeline = Pipeline(stages=[featureIndexer, dt])\n",
    "\n",
    "# Train model.  This also runs the indexers.\n",
    "dtmodel = dtpipeline.fit(trainingData)\n",
    "\n",
    "# Make predictions.\n",
    "dtpredictions = dtmodel.transform(testData)"
   ]
  },
  {
   "cell_type": "code",
   "execution_count": 158,
   "metadata": {},
   "outputs": [
    {
     "data": {
      "text/plain": [
       "DecisionTreeClassificationModel (uid=DecisionTreeClassifier_47f302951e3b) of depth 5 with 35 nodes"
      ]
     },
     "execution_count": 158,
     "metadata": {},
     "output_type": "execute_result"
    }
   ],
   "source": [
    "dtmodel.stages[-1]"
   ]
  },
  {
   "cell_type": "markdown",
   "metadata": {},
   "source": [
    "Implement MulticlassClassificationEvaluator"
   ]
  },
  {
   "cell_type": "code",
   "execution_count": 159,
   "metadata": {},
   "outputs": [],
   "source": [
    "# compute accuracy\n",
    "dtevaluator = MulticlassClassificationEvaluator(\n",
    "    labelCol=\"label\", predictionCol=\"prediction\", metricName=\"accuracy\")\n",
    "dtaccuracy = dtevaluator.evaluate(dtpredictions)\n",
    "# compute f1 score\n",
    "dtevaluator_f1 = MulticlassClassificationEvaluator(\n",
    "    labelCol=\"label\", predictionCol=\"prediction\", metricName=\"f1\")\n",
    "dtf1 = dtevaluator_f1.evaluate(dtpredictions)\n",
    "# compute weighted Precision\n",
    "dtevaluator_precision = MulticlassClassificationEvaluator(\n",
    "    labelCol=\"label\", predictionCol=\"prediction\", metricName=\"weightedPrecision\")\n",
    "dtprecision = dtevaluator_precision.evaluate(dtpredictions)\n",
    "# compute weighted Recall\n",
    "dtevaluator_recall = MulticlassClassificationEvaluator(\n",
    "    labelCol=\"label\", predictionCol=\"prediction\", metricName=\"weightedRecall\")\n",
    "dtrecall = dtevaluator_recall.evaluate(dtpredictions)"
   ]
  },
  {
   "cell_type": "code",
   "execution_count": 160,
   "metadata": {},
   "outputs": [
    {
     "name": "stdout",
     "output_type": "stream",
     "text": [
      "Accuracy: 0.5482576389716692\n",
      "F1-sore: 0.4371114858993135\n",
      "Precision: 0.373766461399142\n",
      "Recall: 0.5482576389716692\n"
     ]
    }
   ],
   "source": [
    "print(\"Accuracy: %s\\nF1-sore: %s\\nPrecision: %s\\nRecall: %s\"\n",
    "      % (dtaccuracy, dtf1, dtprecision, dtrecall))"
   ]
  },
  {
   "cell_type": "markdown",
   "metadata": {},
   "source": [
    "#### Naive Bayes"
   ]
  },
  {
   "cell_type": "code",
   "execution_count": 161,
   "metadata": {},
   "outputs": [],
   "source": [
    "from pyspark.ml.classification import NaiveBayes"
   ]
  },
  {
   "cell_type": "code",
   "execution_count": 162,
   "metadata": {},
   "outputs": [],
   "source": [
    "# create the trainer and set its parameters\n",
    "nb = NaiveBayes(smoothing=1.0, modelType=\"multinomial\")\n",
    "\n",
    "# train the model\n",
    "nbmodel = nb.fit(trainingData)\n",
    "\n",
    "# make predictions\n",
    "nbpredictions = nbmodel.transform(testData)"
   ]
  },
  {
   "cell_type": "markdown",
   "metadata": {},
   "source": [
    "Implement MulticlassClassificationEvaluator"
   ]
  },
  {
   "cell_type": "code",
   "execution_count": 163,
   "metadata": {},
   "outputs": [],
   "source": [
    "# compute accuracy on the test set\n",
    "nbevaluator_accuracy = MulticlassClassificationEvaluator(labelCol=\"label\", predictionCol=\"prediction\",\n",
    "                                              metricName=\"accuracy\")\n",
    "nbaccuracy = nbevaluator_accuracy.evaluate(nbpredictions)\n",
    "#compute f1 score on the test set\n",
    "nbevaluator_f1 = MulticlassClassificationEvaluator(labelCol=\"label\", predictionCol=\"prediction\",\n",
    "                                              metricName=\"f1\")\n",
    "nbf1 = nbevaluator_f1.evaluate(nbpredictions)\n",
    "#compute weighted precision on the test set\n",
    "nbevaluator_precision = MulticlassClassificationEvaluator(labelCol=\"label\", predictionCol=\"prediction\",\n",
    "                                              metricName=\"weightedPrecision\")\n",
    "nbprecision = nbevaluator_precision.evaluate(nbpredictions)\n",
    "#compute weighted recall on the test set\n",
    "nbevaluator_recall = MulticlassClassificationEvaluator(labelCol=\"label\", predictionCol=\"prediction\",\n",
    "                                              metricName=\"weightedRecall\")\n",
    "nbrecall = nbevaluator_recall.evaluate(nbpredictions)"
   ]
  },
  {
   "cell_type": "code",
   "execution_count": 164,
   "metadata": {},
   "outputs": [
    {
     "name": "stdout",
     "output_type": "stream",
     "text": [
      "Accuracy: 0.5415424961258791\n",
      "F1-sore: 0.4038129927924788\n",
      "Precision: 0.40956825138537006\n",
      "Recall: 0.5415424961258791\n"
     ]
    }
   ],
   "source": [
    "print(\"Accuracy: %s\\nF1-sore: %s\\nPrecision: %s\\nRecall: %s\"\n",
    "      % (nbaccuracy, nbf1, nbprecision, nbrecall))"
   ]
  },
  {
   "cell_type": "markdown",
   "metadata": {},
   "source": [
    "Cross Validation for Naive Bayes Model"
   ]
  },
  {
   "cell_type": "code",
   "execution_count": 165,
   "metadata": {},
   "outputs": [],
   "source": [
    "nb_cv = NaiveBayes(modelType=\"multinomial\")\n",
    "paramGrid = ParamGridBuilder().addGrid(nb.smoothing, [0.0, 0.2, 0.4, 0.6, 0.8, 1.0]).build()\n",
    "cvEvaluator = MulticlassClassificationEvaluator(labelCol=\"label\", predictionCol=\"prediction\")"
   ]
  },
  {
   "cell_type": "code",
   "execution_count": 166,
   "metadata": {},
   "outputs": [],
   "source": [
    "# Run Cross-validation\n",
    "cv_nb = CrossValidator(estimator=nb_cv, estimatorParamMaps=paramGrid, evaluator=cvEvaluator)\n",
    "cvModel_nb = cv_nb.fit(trainingData)"
   ]
  },
  {
   "cell_type": "code",
   "execution_count": 167,
   "metadata": {},
   "outputs": [],
   "source": [
    "nbpredictions_cv = cvModel_nb.transform(testData)"
   ]
  },
  {
   "cell_type": "code",
   "execution_count": 168,
   "metadata": {},
   "outputs": [],
   "source": [
    "#compute accuracy\n",
    "nbcvevaluator_accuracy = MulticlassClassificationEvaluator(labelCol=\"label\", predictionCol=\"prediction\",\n",
    "                                              metricName=\"accuracy\")\n",
    "nbcvaccuracy = nbcvevaluator_accuracy.evaluate(nbpredictions_cv)\n",
    "#compute f1 score on the test set\n",
    "nbcvevaluator_f1 = MulticlassClassificationEvaluator(labelCol=\"label\", predictionCol=\"prediction\",\n",
    "                                              metricName=\"f1\")\n",
    "nbcvf1 = nbcvevaluator_f1.evaluate(nbpredictions_cv)\n",
    "#compute weighted precision on the test set\n",
    "nbcvevaluator_precision = MulticlassClassificationEvaluator(labelCol=\"label\", predictionCol=\"prediction\",\n",
    "                                              metricName=\"weightedPrecision\")\n",
    "nbcvprecision = nbcvevaluator_precision.evaluate(nbpredictions_cv)\n",
    "#compute weighted recall on the test set\n",
    "nbcvevaluator_recall = MulticlassClassificationEvaluator(labelCol=\"label\", predictionCol=\"prediction\",\n",
    "                                              metricName=\"weightedRecall\")\n",
    "nbcvrecall = nbcvevaluator_recall.evaluate(nbpredictions_cv)"
   ]
  },
  {
   "cell_type": "code",
   "execution_count": 169,
   "metadata": {},
   "outputs": [
    {
     "name": "stdout",
     "output_type": "stream",
     "text": [
      "Accuracy: 0.5415424961258791\n",
      "F1-sore: 0.4038129927924788\n",
      "Precision: 0.40956825138537006\n",
      "Recall: 0.5415424961258791\n"
     ]
    }
   ],
   "source": [
    "print(\"Accuracy: %s\\nF1-sore: %s\\nPrecision: %s\\nRecall: %s\"\n",
    "      % (nbcvaccuracy, nbcvf1, nbcvprecision, nbcvrecall))"
   ]
  },
  {
   "cell_type": "markdown",
   "metadata": {},
   "source": [
    "### 5. model evaluation \n",
    "(2PTS) this should include computation of relevant metrics, and a comparison between models\n",
    "\n",
    "For all appropriate models (benchmark, champion, and other relevant models), the following should be conducted:\n",
    "\n",
    "a. Evaluate relevant metrics\n",
    "\n",
    "For regression, this would include \n",
    "i.  R-squared (for single factor)\n",
    "ii. Adjusted R-squared (for multifactor)\n",
    "\n",
    "For classification, this would include:\n",
    "\n",
    "\ti. accuracy\n",
    "\tii. precision, recall, F1 score\n",
    "\tii. confusion matrix\n",
    "iv. area under ROC curve (AUROC)\n",
    " \n",
    "Depending on the application, additional evaluation could make sense such as lift charts\n",
    "\n",
    "\n",
    "b. Sensitivity analysis\n",
    "\n",
    "Sensitivity analysis measures the effect of changing the model inputs or parameters.  For example, if the model uses a hyperparameter C, how does AUROC change when feature X is increased/decreased by one standard deviation.  The hope is that sensitivity is low.\n",
    "\n"
   ]
  },
  {
   "cell_type": "markdown",
   "metadata": {},
   "source": [
    "#### Results from MulticlassClassification (before Cross Validation):"
   ]
  },
  {
   "cell_type": "code",
   "execution_count": 170,
   "metadata": {},
   "outputs": [
    {
     "data": {
      "text/html": [
       "<div>\n",
       "<style scoped>\n",
       "    .dataframe tbody tr th:only-of-type {\n",
       "        vertical-align: middle;\n",
       "    }\n",
       "\n",
       "    .dataframe tbody tr th {\n",
       "        vertical-align: top;\n",
       "    }\n",
       "\n",
       "    .dataframe thead th {\n",
       "        text-align: right;\n",
       "    }\n",
       "</style>\n",
       "<table border=\"1\" class=\"dataframe\">\n",
       "  <thead>\n",
       "    <tr style=\"text-align: right;\">\n",
       "      <th></th>\n",
       "      <th>Accuracy</th>\n",
       "      <th>F1 Score</th>\n",
       "      <th>Weighted Precision</th>\n",
       "      <th>Weighted Recall</th>\n",
       "    </tr>\n",
       "  </thead>\n",
       "  <tbody>\n",
       "    <tr>\n",
       "      <th>Logistic Regression</th>\n",
       "      <td>0.535036</td>\n",
       "      <td>0.380454</td>\n",
       "      <td>0.373111</td>\n",
       "      <td>0.535036</td>\n",
       "    </tr>\n",
       "    <tr>\n",
       "      <th>Random Forest</th>\n",
       "      <td>0.544602</td>\n",
       "      <td>0.399578</td>\n",
       "      <td>0.372384</td>\n",
       "      <td>0.544602</td>\n",
       "    </tr>\n",
       "    <tr>\n",
       "      <th>Decision Tree</th>\n",
       "      <td>0.548258</td>\n",
       "      <td>0.437111</td>\n",
       "      <td>0.373766</td>\n",
       "      <td>0.548258</td>\n",
       "    </tr>\n",
       "    <tr>\n",
       "      <th>Naive Bayes</th>\n",
       "      <td>0.541542</td>\n",
       "      <td>0.403813</td>\n",
       "      <td>0.409568</td>\n",
       "      <td>0.541542</td>\n",
       "    </tr>\n",
       "  </tbody>\n",
       "</table>\n",
       "</div>"
      ],
      "text/plain": [
       "                     Accuracy  F1 Score  Weighted Precision  Weighted Recall\n",
       "Logistic Regression  0.535036  0.380454            0.373111         0.535036\n",
       "Random Forest        0.544602  0.399578            0.372384         0.544602\n",
       "Decision Tree        0.548258  0.437111            0.373766         0.548258\n",
       "Naive Bayes          0.541542  0.403813            0.409568         0.541542"
      ]
     },
     "execution_count": 170,
     "metadata": {},
     "output_type": "execute_result"
    }
   ],
   "source": [
    "a = {'Accuracy': [lraccuracy,rfaccuracy,dtaccuracy,nbaccuracy], \n",
    "     'F1 Score': [lrfMeasure,rff1,dtf1,nbf1],\n",
    "    'Weighted Precision':[lrprecision,rfprecision,dtprecision,nbprecision],\n",
    "    'Weighted Recall':[lrrecall,rfrecall,dtrecall,nbrecall]}\n",
    "df = pd.DataFrame(data=a,index=['Logistic Regression','Random Forest','Decision Tree','Naive Bayes'])\n",
    "df"
   ]
  },
  {
   "cell_type": "markdown",
   "metadata": {},
   "source": [
    "#### Results from MulticalssClassification (after Cross Validation):"
   ]
  },
  {
   "cell_type": "code",
   "execution_count": 171,
   "metadata": {},
   "outputs": [
    {
     "data": {
      "text/html": [
       "<div>\n",
       "<style scoped>\n",
       "    .dataframe tbody tr th:only-of-type {\n",
       "        vertical-align: middle;\n",
       "    }\n",
       "\n",
       "    .dataframe tbody tr th {\n",
       "        vertical-align: top;\n",
       "    }\n",
       "\n",
       "    .dataframe thead th {\n",
       "        text-align: right;\n",
       "    }\n",
       "</style>\n",
       "<table border=\"1\" class=\"dataframe\">\n",
       "  <thead>\n",
       "    <tr style=\"text-align: right;\">\n",
       "      <th></th>\n",
       "      <th>Accuracy</th>\n",
       "      <th>F1 Score</th>\n",
       "      <th>Weighted Precision</th>\n",
       "      <th>Weighted Recall</th>\n",
       "    </tr>\n",
       "  </thead>\n",
       "  <tbody>\n",
       "    <tr>\n",
       "      <th>Logistic Regression</th>\n",
       "      <td>0.381910</td>\n",
       "      <td>0.381910</td>\n",
       "      <td>0.370071</td>\n",
       "      <td>0.536139</td>\n",
       "    </tr>\n",
       "    <tr>\n",
       "      <th>Random Forest</th>\n",
       "      <td>0.544523</td>\n",
       "      <td>0.400130</td>\n",
       "      <td>0.374129</td>\n",
       "      <td>0.544523</td>\n",
       "    </tr>\n",
       "    <tr>\n",
       "      <th>Decision Tree</th>\n",
       "      <td>0.548258</td>\n",
       "      <td>0.437111</td>\n",
       "      <td>0.373766</td>\n",
       "      <td>0.548258</td>\n",
       "    </tr>\n",
       "    <tr>\n",
       "      <th>Naive Bayes</th>\n",
       "      <td>0.541542</td>\n",
       "      <td>0.403813</td>\n",
       "      <td>0.409568</td>\n",
       "      <td>0.541542</td>\n",
       "    </tr>\n",
       "  </tbody>\n",
       "</table>\n",
       "</div>"
      ],
      "text/plain": [
       "                     Accuracy  F1 Score  Weighted Precision  Weighted Recall\n",
       "Logistic Regression  0.381910  0.381910            0.370071         0.536139\n",
       "Random Forest        0.544523  0.400130            0.374129         0.544523\n",
       "Decision Tree        0.548258  0.437111            0.373766         0.548258\n",
       "Naive Bayes          0.541542  0.403813            0.409568         0.541542"
      ]
     },
     "execution_count": 171,
     "metadata": {},
     "output_type": "execute_result"
    }
   ],
   "source": [
    "b = {'Accuracy': [lrcvaccuracy,rfcvaccuracy,dtaccuracy,nbcvaccuracy], \n",
    "     'F1 Score': [lrcvf1,rfcvf1,dtf1,nbcvf1],\n",
    "    'Weighted Precision':[lrcvprecision,rfcvprecision,dtprecision,nbcvprecision],\n",
    "    'Weighted Recall':[lrcvrecall,rfcvrecall,dtrecall,nbcvrecall]}\n",
    "df2 = pd.DataFrame(data=b,index=['Logistic Regression','Random Forest','Decision Tree','Naive Bayes'])\n",
    "df2"
   ]
  }
 ],
 "metadata": {
  "kernelspec": {
   "display_name": "Python 3",
   "language": "python",
   "name": "python3"
  },
  "language_info": {
   "codemirror_mode": {
    "name": "ipython",
    "version": 3
   },
   "file_extension": ".py",
   "mimetype": "text/x-python",
   "name": "python",
   "nbconvert_exporter": "python",
   "pygments_lexer": "ipython3",
   "version": "3.6.8"
  }
 },
 "nbformat": 4,
 "nbformat_minor": 2
}
